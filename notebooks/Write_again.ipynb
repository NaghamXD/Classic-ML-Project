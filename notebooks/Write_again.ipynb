{
 "cells": [
  {
   "cell_type": "code",
   "execution_count": 40,
   "metadata": {},
   "outputs": [],
   "source": [
    "import os\n",
    "import glob\n",
    "import numpy as np\n",
    "import pandas as pd\n",
    "import requests\n",
    "import time\n",
    "from datetime import datetime, date, time, timedelta\n",
    "\n",
    "#for models\n",
    "from sklearn.svm import SVC\n",
    "from sklearn.svm import SVR\n",
    "from sklearn.linear_model import LinearRegression\n",
    "from sklearn.ensemble import RandomForestRegressor, GradientBoostingRegressor\n",
    "from sklearn.metrics import accuracy_score\n",
    "from sklearn.pipeline import Pipeline\n",
    "from sklearn.metrics import mean_absolute_error, mean_squared_error, r2_score, mean_absolute_percentage_error\n",
    "from statsmodels.tsa.arima.model import ARIMA\n",
    "from pmdarima.arima import auto_arima\n",
    "\n",
    "from sklearn.neighbors import KNeighborsRegressor\n",
    "\n",
    "#for PCA & PLS\n",
    "from sklearn.decomposition import PCA\n",
    "from sklearn.preprocessing import StandardScaler\n",
    "from sklearn.cross_decomposition import PLSRegression\n",
    "from sklearn.preprocessing import StandardScaler\n",
    "from sklearn.model_selection import TimeSeriesSplit, cross_val_score\n",
    "\n",
    "#for Data\n",
    "import yfinance as yf\n",
    "\n",
    "#for Data Distribution\n",
    "from scipy.stats import kurtosis, skew, shapiro\n",
    "from scipy import stats\n",
    "\n",
    "# for visualization\n",
    "import matplotlib.pyplot as plt\n",
    "import matplotlib.font_manager as fm\n",
    "import plotly.graph_objects as go\n",
    "import seaborn as sns\n"
   ]
  },
  {
   "cell_type": "markdown",
   "metadata": {},
   "source": [
    "DOWNLOAD DATA"
   ]
  },
  {
   "cell_type": "code",
   "execution_count": 41,
   "metadata": {},
   "outputs": [
    {
     "name": "stderr",
     "output_type": "stream",
     "text": [
      "[*********************100%%**********************]  1 of 1 completed\n"
     ]
    }
   ],
   "source": [
    "# Fetch historical data for the S&P 500\n",
    "sp500_data = yf.download('^GSPC', start='2002-01-01', end='2024-01-01')"
   ]
  },
  {
   "cell_type": "code",
   "execution_count": 42,
   "metadata": {},
   "outputs": [
    {
     "name": "stdout",
     "output_type": "stream",
     "text": [
      "                   Open         High          Low        Close    Adj Close  \\\n",
      "Date                                                                          \n",
      "2002-01-02  1148.079956  1154.670044  1136.229980  1154.670044  1154.670044   \n",
      "2002-01-03  1154.670044  1165.270020  1154.010010  1165.270020  1165.270020   \n",
      "2002-01-04  1165.270020  1176.550049  1163.420044  1172.510010  1172.510010   \n",
      "2002-01-07  1172.510010  1176.969971  1163.550049  1164.890015  1164.890015   \n",
      "2002-01-08  1164.890015  1167.599976  1157.459961  1160.709961  1160.709961   \n",
      "\n",
      "                Volume  \n",
      "Date                    \n",
      "2002-01-02  1171000000  \n",
      "2002-01-03  1398900000  \n",
      "2002-01-04  1513000000  \n",
      "2002-01-07  1308300000  \n",
      "2002-01-08  1258800000  \n",
      "\n",
      "\n",
      " Samples of S&P 500:5537\n"
     ]
    }
   ],
   "source": [
    "print(sp500_data.head())\n",
    "print(f'\\n\\n Samples of S&P 500:{len(sp500_data)}') # Print the first few rows of the data"
   ]
  },
  {
   "cell_type": "markdown",
   "metadata": {},
   "source": [
    "Check NA values"
   ]
  },
  {
   "cell_type": "code",
   "execution_count": 43,
   "metadata": {},
   "outputs": [
    {
     "name": "stdout",
     "output_type": "stream",
     "text": [
      "NaN values in DataFrame:\n",
      "Open         False\n",
      "High         False\n",
      "Low          False\n",
      "Close        False\n",
      "Adj Close    False\n",
      "Volume       False\n",
      "dtype: bool\n"
     ]
    }
   ],
   "source": [
    "# Check for NaN values in the data\n",
    "nan_values_df = sp500_data.isna().any()\n",
    "\n",
    "print(\"NaN values in DataFrame:\")\n",
    "print(nan_values_df)"
   ]
  },
  {
   "cell_type": "markdown",
   "metadata": {},
   "source": [
    "Calculate Technical Indicators"
   ]
  },
  {
   "cell_type": "code",
   "execution_count": 44,
   "metadata": {},
   "outputs": [],
   "source": [
    "#Simple Moving Average:\n",
    "#returns the dataframe with additional coumn of simple moving average\n",
    "def calculate_sma(df: pd.DataFrame, column: str = 'Adj Close', window_size: int = 15) -> pd.DataFrame:\n",
    "    \"\"\"\n",
    "    Calculate the Simple Moving Average (SMA) for a given column in a DataFrame.\n",
    "\n",
    "    Parameters:\n",
    "        df (pd.DataFrame): DataFrame containing the financial data.\n",
    "        column (str): Name of the column for which to calculate SMA. Default is 'close'.\n",
    "        window_size (int): Size of the moving window. Default is 15.\n",
    "\n",
    "    Returns:\n",
    "        pd.DataFrame: DataFrame with SMA column added.\n",
    "    \"\"\"\n",
    "    # Calculate SMA\n",
    "    sma = df[column].rolling(window=window_size, min_periods=1).mean()\n",
    "    \n",
    "    # Create a DataFrame to store SMA\n",
    "    df['SMA'] = sma\n",
    "    df['SMA_signal'] = df['Close'] - df['SMA']\n",
    "    return df"
   ]
  },
  {
   "cell_type": "code",
   "execution_count": 45,
   "metadata": {},
   "outputs": [],
   "source": [
    "#Weighted Moving Average\n",
    "def calculate_wma(df: pd.DataFrame, column: str = 'Adj Close', window_size: int = 15) -> pd.DataFrame:\n",
    "    \"\"\"\n",
    "    Calculate the Weighted Moving Average (WMA) for a given column in a DataFrame.\n",
    "\n",
    "    Parameters:\n",
    "        df (pd.DataFrame): DataFrame containing the financial data.\n",
    "        column (str): Name of the column for which to calculate WMA. Default is 'close'.\n",
    "        window_size (int): Size of the moving window. Default is 15.\n",
    "\n",
    "    Returns:\n",
    "        pd.DataFrame: DataFrame with WMA and WMA signal columns added.\n",
    "    \"\"\"\n",
    "    # Generate the weights\n",
    "    weights = np.arange(1, window_size + 1)\n",
    "    data = df[column]\n",
    "    \n",
    "    # Calculate the WMA using convolution\n",
    "    wma = data.rolling(window=window_size).apply(lambda prices: np.dot(prices, weights) / weights.sum(), raw=True)\n",
    "    \n",
    "    # Create a DataFrame to store WMA\n",
    "    df['WMA'] = wma\n",
    "    \n",
    "    # Add WMA signal column\n",
    "    df['WMA_signal'] = df[column] - wma\n",
    "\n",
    "    \n",
    "    return df"
   ]
  },
  {
   "cell_type": "code",
   "execution_count": 46,
   "metadata": {},
   "outputs": [],
   "source": [
    "#MACD\n",
    "def calculate_macd(df: pd.DataFrame, short_window:int=12, long_window:int=26,\n",
    "                    signal_window:int=9, column: str = 'Adj Close') -> pd.DataFrame:\n",
    "    \"\"\"\n",
    "    Calculate the Moving Average Convergence Divergence (MACD) for a DataFrame.\n",
    "\n",
    "    Parameters:\n",
    "        df (DataFrame): DataFrame containing the data.\n",
    "        short_window (int): The short-term window size for the short EMA.\n",
    "        long_window (int): The long-term window size for the long EMA.\n",
    "        signal_window (int): The window size for the signal line EMA.\n",
    "\n",
    "    Returns:\n",
    "        DataFrame: DataFrame with additional columns for MACD and signal line.\n",
    "    \"\"\"\n",
    "    # Calculate short-term EMA\n",
    "    short_ema = df[column].ewm(span=short_window, min_periods=1, adjust=False).mean()\n",
    "    \n",
    "    # Calculate long-term EMA\n",
    "    long_ema = df[column].ewm(span=long_window, min_periods=1, adjust=False).mean()\n",
    "    \n",
    "    # Calculate MACD line\n",
    "    macd_line = short_ema - long_ema\n",
    "    \n",
    "    # Calculate signal line\n",
    "    signal_line = macd_line.ewm(span=signal_window, min_periods=1, adjust=False).mean()\n",
    "    \n",
    "    # Store MACD and signal line in the DataFrame\n",
    "    df['MACD'] = macd_line\n",
    "    df['Signal Line'] = signal_line\n",
    "    df['macd_signal'] = macd_line - signal_line\n",
    "    return df"
   ]
  },
  {
   "cell_type": "code",
   "execution_count": 47,
   "metadata": {},
   "outputs": [],
   "source": [
    "#Stochastic_oscillator\n",
    "def calculate_stochastic_oscillator(df, k_fast_period=14, k_slow_period=3, \n",
    "                                    d_slow_period=3, column: str = 'Adj Close'):\n",
    "    \"\"\"\n",
    "    Calculate the Stochastic Oscillator and its corresponding moving averages (K and D lines).\n",
    "\n",
    "    Parameters:\n",
    "        df (DataFrame): DataFrame containing the data.\n",
    "        k_fast_period (int): The period for the fast %K line.\n",
    "        k_slow_period (int): The period for the slow %K line.\n",
    "        d_slow_period (int): The period for the slow %D line.\n",
    "\n",
    "    Returns:\n",
    "        DataFrame: DataFrame with additional columns for %K_fast, %K_slow, %D_fast, and %D_slow.\n",
    "    \"\"\"\n",
    "    # Calculate highest high and lowest low over the period\n",
    "    HH = df['High'].rolling(window=k_fast_period).max()\n",
    "    LL = df['Low'].rolling(window=k_fast_period).min()\n",
    "\n",
    "    # Calculate %K_fast\n",
    "    df['%K_fast'] = ((df[column] - LL) / \n",
    "                     (HH - LL)) * 100\n",
    "    \n",
    "    # Calculate %K_slow (smoothed %K_fast)\n",
    "    df['%K_slow'] = df['%K_fast'].rolling(window=k_slow_period).mean()\n",
    "    \n",
    "    # Calculate %D_fast (3-day SMA of %K_slow)\n",
    "    df['%D_fast'] = df['%K_slow'].rolling(window=d_slow_period).mean()\n",
    "    \n",
    "    # Calculate %D_slow (3-day SMA of %D_fast)\n",
    "    df['%D_slow'] = df['%D_fast'].rolling(window=d_slow_period).mean()\n",
    "    \n",
    "    return df"
   ]
  },
  {
   "cell_type": "code",
   "execution_count": 48,
   "metadata": {},
   "outputs": [],
   "source": [
    "#RSI\n",
    "def calculate_rsi(df, window_size=14, column: str = 'Adj Close'):\n",
    "    \"\"\"\n",
    "    Calculate the Relative Strength Index (RSI) for a DataFrame.\n",
    "\n",
    "    Parameters:\n",
    "        df (DataFrame): DataFrame containing the data.\n",
    "        window (int): The window size for calculating RSI.\n",
    "\n",
    "    Returns:\n",
    "        DataFrame: DataFrame with an additional column for RSI.\n",
    "    \"\"\"\n",
    "    # Calculate price changes\n",
    "    delta = df[column].diff()\n",
    "    \n",
    "    # Define up and down moves\n",
    "    gain = (delta.where(delta > 0, 0)).rolling(window=window_size).mean()\n",
    "    loss = (-delta.where(delta < 0, 0)).rolling(window=window_size).mean()\n",
    "    \n",
    "    # Calculate the relative strength (RS)\n",
    "    rs = gain / loss\n",
    "    \n",
    "    # Calculate RSI\n",
    "    rsi = 100 - (100 / (1 + rs))\n",
    "    \n",
    "    # Store RSI in the DataFrame\n",
    "    df['RSI'] = rsi\n",
    "    \n",
    "    return df"
   ]
  },
  {
   "cell_type": "code",
   "execution_count": 49,
   "metadata": {},
   "outputs": [],
   "source": [
    "#WPR\n",
    "def calculate_williams_percent_r(df, window=14, column: str = 'Adj Close'):\n",
    "    \"\"\"\n",
    "    Calculate the Williams %R (WPR) for a DataFrame.\n",
    "\n",
    "    Parameters:\n",
    "        df (DataFrame): DataFrame containing the data.\n",
    "        window (int): The window size for calculating WPR.\n",
    "\n",
    "    Returns:\n",
    "        DataFrame: DataFrame with an additional column for WPR.\n",
    "    \"\"\"\n",
    "    # Calculate highest high and lowest low over the window\n",
    "    highest_high = df['High'].rolling(window=window).max()\n",
    "    lowest_low = df['Low'].rolling(window=window).min()\n",
    "    \n",
    "    # Calculate Williams %R\n",
    "    wpr = ((highest_high - df[column]) / (highest_high - lowest_low)) * -100\n",
    "    \n",
    "    # Store WPR in the DataFrame\n",
    "    df['WPR'] = wpr\n",
    "    \n",
    "    return df"
   ]
  },
  {
   "cell_type": "code",
   "execution_count": 50,
   "metadata": {},
   "outputs": [],
   "source": [
    "#Bollinger Bands\n",
    "def calculate_bollinger_bands(df, window=20, num_std_dev=2, column: str = 'Adj Close'):\n",
    "    \"\"\"\n",
    "    Calculate Bollinger Bands for a DataFrame.\n",
    "\n",
    "    Parameters:\n",
    "        df (DataFrame): DataFrame containing the data.\n",
    "        window (int): The window size for the moving average.\n",
    "        num_std_dev (int): The number of standard deviations for the bands.\n",
    "\n",
    "    Returns:\n",
    "        DataFrame: DataFrame with additional columns for Bollinger Bands.\n",
    "    \"\"\"\n",
    "    # Calculate rolling mean and standard deviation\n",
    "    rolling_mean = df[column].rolling(window=window).mean()\n",
    "    rolling_std = df[column].rolling(window=window).std()\n",
    "    \n",
    "    # Calculate upper and lower bands\n",
    "    upper_band = rolling_mean + (rolling_std * num_std_dev)\n",
    "    lower_band = rolling_mean - (rolling_std * num_std_dev)\n",
    "    \n",
    "    # Store Bollinger Bands in the DataFrame\n",
    "    df['Bollinger Upper'] = upper_band\n",
    "    df['Bollinger Lower'] = lower_band\n",
    "    df['Bollinger Diff'] = upper_band - lower_band\n",
    "    \n",
    "    return df"
   ]
  },
  {
   "cell_type": "code",
   "execution_count": 51,
   "metadata": {},
   "outputs": [],
   "source": [
    "#On-Balance Volume (OBV)\n",
    "def calculate_obv(df, column: str = 'Adj Close'):\n",
    "    \"\"\"\n",
    "    Calculate On-Balance Volume (OBV) for a DataFrame.\n",
    "\n",
    "    Parameters:\n",
    "        df (DataFrame): DataFrame containing the data.\n",
    "\n",
    "    Returns:\n",
    "        DataFrame: DataFrame with additional column for OBV.\n",
    "    \"\"\"\n",
    "    obv_values = []\n",
    "    prev_obv = 0\n",
    "\n",
    "    for i in range(1, len(df)):\n",
    "        if df[column].iloc[i] > df[column].iloc[i - 1]:\n",
    "            obv = prev_obv + df['Volume'].iloc[i]\n",
    "        elif df[column].iloc[i] < df[column].iloc[i - 1]:\n",
    "            obv = prev_obv - df['Volume'].iloc[i]\n",
    "        else:\n",
    "            obv = prev_obv\n",
    "\n",
    "        obv_values.append(obv)\n",
    "        prev_obv = obv\n",
    "\n",
    "    # Add initial OBV value as 0\n",
    "    obv_values = [0] + obv_values\n",
    "\n",
    "    # Store OBV in the DataFrame\n",
    "    df['OBV'] = obv_values\n",
    "\n",
    "    return df"
   ]
  },
  {
   "cell_type": "code",
   "execution_count": 52,
   "metadata": {},
   "outputs": [],
   "source": [
    "#Average True Range (ATR)\n",
    "def calculate_atr(df, period=14):\n",
    "    \"\"\"\n",
    "    Calculate the Average True Range (ATR) of a stock dataset.\n",
    "\n",
    "    Parameters:\n",
    "        df (DataFrame): DataFrame containing stock data, with 'High', 'Low', \n",
    "        and 'Close' columns representing high, low, and closing prices respectively.\n",
    "        period (int): Number of periods for which to calculate the ATR (default is 14).\n",
    "\n",
    "    Returns:\n",
    "        DataFrame: DataFrame with 'ATR' column containing the calculated ATR values.\n",
    "    \"\"\"\n",
    "    high = df['High']\n",
    "    low = df['Low']\n",
    "    close = df['Adj Close']\n",
    "    \n",
    "    # True Range (TR) calculation\n",
    "    df['TR'] = df[['High', 'Low', 'Adj Close']].apply(lambda row: max(row['High'] \n",
    "    - row['Low'], abs(row['High'] - row['Adj Close']), abs(row['Low'] - row['Adj Close'])), axis=1)\n",
    "    \n",
    "    # ATR calculation\n",
    "    df['ATR'] = df['TR'].rolling(period).mean()\n",
    "    \n",
    "    # Drop the TR column if not needed\n",
    "    df.drop('TR', axis=1, inplace=True)\n",
    "    \n",
    "    return df"
   ]
  },
  {
   "cell_type": "code",
   "execution_count": 53,
   "metadata": {},
   "outputs": [],
   "source": [
    "#rice Rate of Change (ROC)\n",
    "def calculate_roc(df, n_periods=12, column='Adj Close'):\n",
    "    \"\"\"\n",
    "    Calculate the Price Rate of Change (ROC) of a stock dataset.\n",
    "\n",
    "    Parameters:\n",
    "        df (DataFrame): DataFrame containing stock data, with 'Adj Close' column representing \n",
    "        closing prices. n_periods (int): Number of periods for which to calculate the ROC. \n",
    "        # It can be anything such as 12, 25, or 200. Short-term trader traders typically use a\n",
    "        smaller number while longer-term investors use a larger number.\n",
    "\n",
    "    Returns:\n",
    "        DataFrame: DataFrame with 'ROC' column containing the calculated ROC values.\n",
    "    \"\"\"\n",
    "    close_prices = df[column]\n",
    "    close_prices_shifted = close_prices.shift(n_periods)\n",
    "    \n",
    "    roc = ((close_prices - close_prices_shifted) / close_prices_shifted) * 100\n",
    "    \n",
    "    df['ROC'] = roc\n",
    "    return df"
   ]
  },
  {
   "cell_type": "code",
   "execution_count": 54,
   "metadata": {},
   "outputs": [],
   "source": [
    "#Money Flow Index - MFI\n",
    "def calculate_mfi(df, period=14):\n",
    "    \"\"\"\n",
    "    Calculate the Money Flow Index (MFI) of a stock dataset.\n",
    "\n",
    "    Parameters:\n",
    "        df (DataFrame): DataFrame containing stock data, with 'High', 'Low', 'Close', and 'Volume' columns representing high, low, closing prices, and volume respectively.\n",
    "        period (int): Number of periods for which to calculate the MFI (default is 14).\n",
    "\n",
    "    Returns:\n",
    "        DataFrame: DataFrame with 'MFI' column containing the calculated MFI values.\n",
    "    \"\"\"\n",
    "    high = df['High']\n",
    "    low = df['Low']\n",
    "    close = df['Adj Close']\n",
    "    volume = df['Volume']\n",
    "    \n",
    "    # Typical Price calculation\n",
    "    tp = (high + low + close) / 3\n",
    "    \n",
    "    # Raw Money Flow calculation\n",
    "    mf = tp * volume\n",
    "    \n",
    "    # Determine whether the typical price is higher or lower than the previous period\n",
    "    tp_shifted = tp.shift(1)\n",
    "    positive_flow = (tp > tp_shifted)\n",
    "    negative_flow = (tp < tp_shifted)\n",
    "    \n",
    "    # Calculate positive and negative money flow\n",
    "    positive_mf = positive_flow * mf\n",
    "    negative_mf = negative_flow * mf\n",
    "    \n",
    "    # Calculate the Money Flow Ratio (MFR)\n",
    "    mfr = positive_mf.rolling(window=period).sum() / negative_mf.rolling(window=period).sum()\n",
    "    \n",
    "    # Calculate the Money Flow Index (MFI)\n",
    "    mfi = 100 - (100 / (1 + mfr))\n",
    "    \n",
    "    df['MFI'] = mfi\n",
    "    \n",
    "    return df"
   ]
  },
  {
   "cell_type": "code",
   "execution_count": 55,
   "metadata": {},
   "outputs": [],
   "source": [
    "def calculate_chaikin_oscillator(df, short_period=3, long_period=10):\n",
    "    \"\"\"\n",
    "    Calculate the Chaikin Oscillator of a stock dataset.\n",
    "\n",
    "    Parameters:\n",
    "        df (DataFrame): DataFrame containing stock data, with 'High', 'Low', 'Adj Close', and 'Volume' columns representing high, low, closing prices, and volume respectively.\n",
    "        short_period (int): Number of periods for the short EMA (default is 3).\n",
    "        long_period (int): Number of periods for the long EMA (default is 10).\n",
    "\n",
    "    Returns:\n",
    "        DataFrame: DataFrame with 'Chaikin_Oscillator' column containing the calculated Chaikin Oscillator values.\n",
    "    \"\"\"\n",
    "    high = df['High']\n",
    "    low = df['Low']\n",
    "    close = df['Adj Close']\n",
    "    volume = df['Volume']\n",
    "    \n",
    "    # Money Flow Multiplier calculation\n",
    "    mfm = ((close - low) - (high - close)) / (high - low)\n",
    "    \n",
    "    # Money Flow Volume calculation\n",
    "    mfv = mfm * volume\n",
    "    \n",
    "    # Accumulation/Distribution Line (ADL) calculation\n",
    "    adl = mfv.cumsum()\n",
    "    \n",
    "    # Calculate the EMA for ADL\n",
    "    ema_short = adl.ewm(span=short_period, min_periods=short_period, adjust=False).mean()\n",
    "    ema_long = adl.ewm(span=long_period, min_periods=long_period, adjust=False).mean()\n",
    "    \n",
    "    # Calculate the Chaikin Oscillator\n",
    "    chaikin_oscillator = ema_short - ema_long\n",
    "    \n",
    "    df['Chaikin_Oscillator'] = chaikin_oscillator\n",
    "    \n",
    "    return df"
   ]
  },
  {
   "cell_type": "code",
   "execution_count": 56,
   "metadata": {},
   "outputs": [],
   "source": [
    "#Bulid the technical indicators: features\n",
    "def technical_indicators(df):\n",
    "    df = calculate_sma(df)\n",
    "    df = calculate_wma(df)\n",
    "    df = calculate_macd(df)\n",
    "    df = calculate_rsi(df)\n",
    "    df = calculate_stochastic_oscillator(df)\n",
    "    df = calculate_bollinger_bands(df)\n",
    "    df = calculate_williams_percent_r(df)\n",
    "    df = calculate_obv(df)\n",
    "    df = calculate_roc(df)\n",
    "    df = calculate_atr(df)\n",
    "    df = calculate_mfi(df)\n",
    "    df = calculate_chaikin_oscillator(df)\n",
    "    return df "
   ]
  },
  {
   "cell_type": "markdown",
   "metadata": {},
   "source": [
    "Avoid look ahead bias"
   ]
  },
  {
   "cell_type": "code",
   "execution_count": 57,
   "metadata": {},
   "outputs": [],
   "source": [
    "# All analyzed technical indicators are lagged by one period before being used as predictors for \n",
    "# returns in the models in order to avoid the so-called look ahead bias involving making decisions \n",
    "# in the same period for which the given signal was generated.\n",
    "def lag_technical_indicators(df):\n",
    "    \"\"\"\n",
    "    Lag all columns in a DataFrame by one period.\n",
    "\n",
    "    Parameters:\n",
    "        df (DataFrame): DataFrame containing the calculated technical indicators.\n",
    "\n",
    "    Returns:\n",
    "        DataFrame: DataFrame with all columns lagged by one period.\n",
    "    \"\"\"\n",
    "    # Lag all columns by one period\n",
    "    df_lagged = df.shift()\n",
    "    \n",
    "    return df_lagged"
   ]
  },
  {
   "cell_type": "markdown",
   "metadata": {},
   "source": [
    "Transformation Function: [-1,1]"
   ]
  },
  {
   "cell_type": "code",
   "execution_count": 58,
   "metadata": {},
   "outputs": [],
   "source": [
    "# Transformation Function\n",
    "# Technical analysis indicators need to be rescaled before being fed to the models.\n",
    "# The process is conducted using a version of min-max normalization technique which produces outputs in range from ‐1 to 1.\n",
    "# This technique was chosen for two reasons: it is intuitive as the machine learning models produce output \n",
    "# variable that is also ranging from ‐1 to 1 and because it causes the input data to be more comparable. \n",
    "# X'(t) = (X(t) - min(x)) / (max(x) - min(x))*2 -1\n",
    "\n",
    "def feature_transform(df):\n",
    "    \"\"\"\n",
    "    Transform all columns in the DataFrame as the following formula\n",
    "    X'(t) = (X(t) - min(x)) / (max(x) - min(x))*2 -1\n",
    "\n",
    "    Parameters:\n",
    "        df (DataFrame): DataFrame containing the calculated technical indicators.\n",
    "\n",
    "    Returns:\n",
    "        DataFrame: DataFrame with all columns transformed.\n",
    "    \"\"\"\n",
    "    max_x = df.max()\n",
    "    min_x = df.min()\n",
    "\n",
    "    df_transformed = (df - min_x) / (max_x - min_x) * 2 - 1\n",
    "\n",
    "    return df_transformed"
   ]
  },
  {
   "cell_type": "markdown",
   "metadata": {},
   "source": [
    "Calculate Return"
   ]
  },
  {
   "cell_type": "code",
   "execution_count": 59,
   "metadata": {},
   "outputs": [],
   "source": [
    "def calculate_returns(df):\n",
    "    \"\"\"\n",
    "    Calculate returns from adjusted close prices.\n",
    "\n",
    "    Parameters:\n",
    "    df (DataFrame): DataFrame containing adjusted close prices.\n",
    "\n",
    "    Returns:\n",
    "    returns (Series): Series containing the calculated returns.\n",
    "    \"\"\"\n",
    "    # Calculate percentage change in adjusted close prices\n",
    "    returns = df['Adj Close'].pct_change()\n",
    "\n",
    "    return returns"
   ]
  },
  {
   "cell_type": "code",
   "execution_count": 60,
   "metadata": {},
   "outputs": [],
   "source": [
    "#Log_return:\n",
    "def calculate_log_return(df, column='Adj Close'):\n",
    "    \"\"\"\n",
    "    Calculate log returns from adjusted close prices.\n",
    "\n",
    "    Parameters:\n",
    "        df (DataFrame): DataFrame containing adjusted close prices.\n",
    "        column (str): Name of the column containing adjusted close prices.\n",
    "\n",
    "    Returns:\n",
    "        DataFrame: DataFrame containing log returns.\n",
    "    \"\"\"\n",
    "    # Shift adjusted close prices by one day to get t-1 prices\n",
    "    previous_adj_close = df[column].shift(1)\n",
    "    \n",
    "    # Calculate log returns\n",
    "    log_returns = np.log(df[column] / previous_adj_close)\n",
    "    # Concatenate log returns with the original DataFrame\n",
    "    df['log_return'] = log_returns  \n",
    "    \n",
    "    return df"
   ]
  },
  {
   "cell_type": "code",
   "execution_count": 61,
   "metadata": {},
   "outputs": [],
   "source": [
    "def calculate_log_returns_per(df, column='Adj Close'):\n",
    "    \"\"\"\n",
    "    Calculate logarithmic returns for adjusted closing prices.\n",
    "    \n",
    "    Parameters:\n",
    "        df (DataFrame): DataFrame containing adjusted closing prices.\n",
    "        column_name (str): Name of the column containing adjusted closing prices.\n",
    "        \n",
    "    Returns:\n",
    "        log_returns (Series): Series containing logarithmic returns.\n",
    "    \"\"\"\n",
    "    # Calculate the percentage change in adjusted closing prices\n",
    "    returns = df[column].pct_change()\n",
    "    \n",
    "    # Calculate logarithmic returns\n",
    "    log_returns = np.log(1 + returns)\n",
    "    df['log_return_per'] = log_returns  \n",
    "\n",
    "    return df"
   ]
  },
  {
   "cell_type": "code",
   "execution_count": 62,
   "metadata": {},
   "outputs": [],
   "source": [
    "def calculate_discrete_returns(df, column='Adj Close'):\n",
    "    \"\"\"\n",
    "    Calculate discrete returns for a given column in a DataFrame.\n",
    "    \n",
    "    Parameters:\n",
    "        df (DataFrame): DataFrame containing the data.\n",
    "        column_name (str): Name of the column for which to calculate discrete returns.\n",
    "        \n",
    "    Returns:\n",
    "        discrete_returns (Series): Series containing discrete returns.\n",
    "    \"\"\"\n",
    "    # Calculate the difference between consecutive values\n",
    "    differences = df[column].diff()\n",
    "    \n",
    "    # Calculate discrete returns\n",
    "    discrete_returns = differences / df[column].shift(1)\n",
    "    df['discrete_return'] = discrete_returns  \n",
    "    \n",
    "    return df"
   ]
  },
  {
   "cell_type": "markdown",
   "metadata": {},
   "source": [
    "Walk Forward"
   ]
  },
  {
   "cell_type": "code",
   "execution_count": 63,
   "metadata": {},
   "outputs": [],
   "source": [
    "#truncate the dataframe from the biggining so the walk forward splits will continue untill the last date\n",
    "def truncate_before_wf(df, in_sample_size, out_sample_size):\n",
    "    drop_index = (len(df) - in_sample_size) % out_sample_size\n",
    "    return (df.iloc[drop_index:, :])"
   ]
  },
  {
   "cell_type": "code",
   "execution_count": 64,
   "metadata": {},
   "outputs": [],
   "source": [
    "# Research employed dynamic estimation windows which means that the underlying parameters of the models \n",
    "# were periodically recalibrated to reflect current market behaviors. Observations from the beginning \n",
    "# of the available period were initially trimmed in order for the overall number of observations for\n",
    "# each index to be easily divisible into equal subsets. Calibration of models’ parameters was conducted \n",
    "# on 200 trading day window (in-sample) and then model predictions were applied onto next 20 trading day\n",
    "# window (out-of-sample). For each subsequent dynamic window iteration, in-sample and out-of-sample moved \n",
    "# by 20 trading days. \n",
    "\n",
    "def walk_forward_validation(df, in_sample_size, out_sample_size):\n",
    "    \"\"\"\n",
    "    Perform walk-forward validation on a DataFrame.\n",
    "\n",
    "    Parameters:\n",
    "        df (DataFrame): DataFrame containing the data.\n",
    "        in_sample_size (int): Number of periods to use for in-sample data.\n",
    "        out_sample_size (int): Number of periods to use for out-of-sample data.\n",
    "\n",
    "    Returns:\n",
    "        Tuple: Tuple containing lists of in-sample and out-of-sample data.\n",
    "    \"\"\"\n",
    "    total_rows = len(df)\n",
    "    n_subsets = (total_rows - in_sample_size) // out_sample_size\n",
    "    splits = []\n",
    "        \n",
    "    for i in range(n_subsets):\n",
    "        start_index = i * out_sample_size\n",
    "        end_index = start_index + in_sample_size + out_sample_size\n",
    "        \n",
    "        if end_index > total_rows:\n",
    "            break\n",
    "        \n",
    "        in_sample = df.iloc[start_index : start_index + in_sample_size]\n",
    "        out_of_sample = df.iloc[start_index + in_sample_size : end_index]\n",
    "        \n",
    "        splits.append((in_sample, out_of_sample))\n",
    "    return (splits)"
   ]
  },
  {
   "cell_type": "markdown",
   "metadata": {},
   "source": [
    "Data Analysis Tools"
   ]
  },
  {
   "cell_type": "code",
   "execution_count": 65,
   "metadata": {},
   "outputs": [],
   "source": [
    "# Compute the correlation coefficients between each feature and the return & print it\n",
    "\n",
    "def correlation(df, target_name):\n",
    "\n",
    "    correlation_with_target = np.abs(df.corrwith(df[target_name]))\n",
    "\n",
    "    # Display the correlation coefficients\n",
    "    print(\"Correlation with Log return:\")\n",
    "    print(correlation_with_target.sort_values(ascending=False))\n",
    "    correlation_with_target.sort_values().plot.barh(color = 'blue',title = 'Strength of Correlation', )"
   ]
  },
  {
   "cell_type": "code",
   "execution_count": 66,
   "metadata": {},
   "outputs": [],
   "source": [
    "#Thus far, we've only used a simple correlation statistic across the full time period. \n",
    "#This is a good place to start but, is a dangerous place to stop. Financial time series data suffers\n",
    "# from non-stationarity and regime change, so a relationship which on average has existed may have been \n",
    "#wildly unstable over time.\n",
    "\n",
    "#To check, we'll plot the rolling correlation of these selected features.\n",
    "\n",
    "# Compute the rolling correlation for each pair of selected features\n",
    "def rolling_correlation(df, target_name, window_size = 200):\n",
    "\n",
    "    correlation_with_target_200 = df.rolling(window=window_size).corr(df[target_name])\n",
    "    # Create traces for each feature\n",
    "    traces = []\n",
    "    for feature in df.columns:\n",
    "        trace = go.Scatter(\n",
    "            x=correlation_with_target_200.index,\n",
    "            y=correlation_with_target_200[feature],\n",
    "            mode='lines',\n",
    "            name=feature\n",
    "        )\n",
    "        traces.append(trace)\n",
    "\n",
    "    # Create layout for the plot\n",
    "        layout = go.Layout(\n",
    "        title='Rolling Correlation of Features with Log Return',\n",
    "        xaxis=dict(title='Index'),\n",
    "        yaxis=dict(title='Rolling Correlation with Log Return'),\n",
    "        hovermode='closest',\n",
    "        autosize=True\n",
    "    )\n",
    "\n",
    "    # Create figure object\n",
    "    fig = go.Figure(data=traces, layout=layout)\n",
    "\n",
    "    # Show plot\n",
    "    fig.show()"
   ]
  },
  {
   "cell_type": "code",
   "execution_count": 67,
   "metadata": {},
   "outputs": [],
   "source": [
    "def features_paiplot(df):\n",
    "    pairplot = sns.pairplot(df, height=1.5)\n",
    "\n",
    "    # Set the title\n",
    "    pairplot.figure.suptitle('Pairplot of features', y=1.02)\n",
    "\n",
    "    # Show the plot\n",
    "    plt.show()"
   ]
  },
  {
   "cell_type": "code",
   "execution_count": 68,
   "metadata": {},
   "outputs": [],
   "source": [
    "#check distribution \n",
    "def check_distribution(df, column_name='Adj Close'):\n",
    "    \"\"\"\n",
    "    Check the distribution of a column in a DataFrame.\n",
    "\n",
    "    Parameters:\n",
    "        df (DataFrame): DataFrame containing the data.\n",
    "        column_name (str): Name of the column to check the distribution for (default is 'Adj Close').\n",
    "\n",
    "    Returns:\n",
    "        None (displays descriptive statistics and visualizations)\n",
    "    \"\"\"\n",
    "    # Descriptive statistics\n",
    "    print(\"Descriptive Statistics:\")\n",
    "    print(df[column_name].describe())\n",
    "\n",
    "    # Histogram\n",
    "    plt.figure(figsize=(10, 6))\n",
    "    sns.histplot(df[column_name], kde=True)\n",
    "    plt.title(f'Distribution of {column_name}')\n",
    "    plt.xlabel(column_name)\n",
    "    plt.ylabel('Frequency')\n",
    "    plt.show()"
   ]
  },
  {
   "cell_type": "code",
   "execution_count": 69,
   "metadata": {},
   "outputs": [],
   "source": [
    "def check_distribution_type(column_data, alpha=0.05):\n",
    "    \"\"\"\n",
    "    Check if the given column data is normally distributed or has positive kurtosis.\n",
    "\n",
    "    Parameters:\n",
    "    - column_data: Pandas Series containing the column data to be checked.\n",
    "    - alpha: Significance level for hypothesis testing (default is 0.05).\n",
    "\n",
    "    Returns:\n",
    "    - result: A string describing the distribution based on the tests performed.\n",
    "    \"\"\"\n",
    "    # Calculate kurtosis and skewness\n",
    "    kurt = kurtosis(column_data)\n",
    "    skewness = skew(column_data)\n",
    "    \n",
    "    # Perform Shapiro-Wilk test for normality\n",
    "    stat_shapiro, p_value_shapiro = shapiro(column_data)\n",
    "    \n",
    "    # Plot histogram and Q-Q plot\n",
    "    plt.figure(figsize=(12, 4))\n",
    "    plt.subplot(1, 2, 1)\n",
    "    plt.hist(column_data, bins=20, density=True, color='skyblue', edgecolor='black')\n",
    "    plt.title('Histogram')\n",
    "    \n",
    "    plt.subplot(1, 2, 2)\n",
    "    plt.scatter(*np.percentile(column_data, [25, 75]), color='r', marker='o')\n",
    "    plt.boxplot(column_data, vert=False)\n",
    "    plt.title('Boxplot')\n",
    "    plt.show()\n",
    "    \n",
    "    # Print summary statistics\n",
    "    print(\"Summary Statistics:\")\n",
    "    print(f\"Kurtosis: {kurt:.4f}\")\n",
    "    print(f\"Skewness: {skewness:.4f}\")\n",
    "    print(f\"Shapiro-Wilk test p-value: {p_value_shapiro:.4f}\")\n",
    "    \n",
    "    # Determine distribution based on tests\n",
    "    if p_value_shapiro > alpha and kurt < 0:\n",
    "        result = \"Normally Distributed\"\n",
    "    elif p_value_shapiro > alpha and kurt > 0:\n",
    "        result = \"Positive Kurtosis\"\n",
    "    else:\n",
    "        result = \"Unknown\"\n",
    "    \n",
    "    return result"
   ]
  },
  {
   "cell_type": "code",
   "execution_count": 70,
   "metadata": {},
   "outputs": [],
   "source": [
    "def check_distribution_k(data):\n",
    "    # Calculate kurtosis\n",
    "    kurt = kurtosis(data, fisher=False)\n",
    "    \n",
    "    # Perform Shapiro-Wilk test for normality\n",
    "    _, p_value = shapiro(data)\n",
    "    \n",
    "    # Check if kurtosis is positive and p-value of Shapiro-Wilk test is greater than 0.05\n",
    "    if kurt > 0 and p_value > 0.05:\n",
    "        return \"Positively kurtotic\"\n",
    "    else:\n",
    "        return \"Normally distributed\""
   ]
  },
  {
   "cell_type": "code",
   "execution_count": 71,
   "metadata": {},
   "outputs": [],
   "source": [
    "def count_outliers_iqr_df(df, k=1.5):\n",
    "    \"\"\"\n",
    "    Count the number of outliers in each column of the DataFrame using the Interquartile Range (IQR) method.\n",
    "    \n",
    "    Parameters:\n",
    "    - df: The input DataFrame.\n",
    "    - k: The multiplier for the IQR. Typically set to 1.5 to 3.\n",
    "    \n",
    "    Returns:\n",
    "    - A dictionary where keys are column names and values are the number of outliers detected in each column.\n",
    "    \"\"\"\n",
    "    outliers_counts = {}\n",
    "    for col in df.columns:\n",
    "        data = df[col]\n",
    "        quartile_1, quartile_3 = np.percentile(data, [25, 75])\n",
    "        iqr = quartile_3 - quartile_1\n",
    "        lower_bound = quartile_1 - (k * iqr)\n",
    "        upper_bound = quartile_3 + (k * iqr)\n",
    "        outliers = (data < lower_bound) | (data > upper_bound)\n",
    "        outliers_counts[col] = np.sum(outliers)\n",
    "    return outliers_counts\n"
   ]
  },
  {
   "cell_type": "code",
   "execution_count": 72,
   "metadata": {},
   "outputs": [],
   "source": [
    "def is_normal(df, alpha=0.05):\n",
    "    \"\"\"\n",
    "    Test if the data is normally distributed using Z-score.\n",
    "    \n",
    "    Parameters:\n",
    "    - data: The input data array.\n",
    "    - alpha: The significance level for the test.\n",
    "    \n",
    "    Returns:\n",
    "    - True if the data is normally distributed, False otherwise.\n",
    "    \"\"\"\n",
    "    normal_col = {}\n",
    "    for col in df.columns:\n",
    "        data = df[col]\n",
    "        z_score, p_value = stats.normaltest(data)\n",
    "        normal_col[col] = p_value > alpha\n",
    "    return normal_col"
   ]
  },
  {
   "cell_type": "markdown",
   "metadata": {},
   "source": [
    "Data Cleaning"
   ]
  },
  {
   "cell_type": "code",
   "execution_count": 73,
   "metadata": {},
   "outputs": [],
   "source": [
    "#Truncate NaN Data\n",
    "def drop_nan(df):\n",
    "    # Remove rows with NaN values\n",
    "    cleaned_df = df.dropna()\n",
    "\n",
    "    return cleaned_df"
   ]
  },
  {
   "cell_type": "markdown",
   "metadata": {},
   "source": [
    "PCA"
   ]
  },
  {
   "cell_type": "code",
   "execution_count": 74,
   "metadata": {},
   "outputs": [],
   "source": [
    "def perform_pca(df, num_components=11):\n",
    "    \"\"\"\n",
    "    Perform Principal Component Analysis (PCA) on the given DataFrame.\n",
    "\n",
    "    Parameters:\n",
    "        df (DataFrame): DataFrame containing the data.\n",
    "        num_components (int): Number of principal components to retain (default is 2).\n",
    "\n",
    "    Returns:\n",
    "        pca_df (DataFrame): DataFrame containing the principal components.\n",
    "        explained_variance_ratio (array): Array containing the explained variance ratio of each principal component.\n",
    "        principal_components (array): Array containing the principal components.\n",
    "    \"\"\"\n",
    "    # Step 1: Preprocess the data\n",
    "    scaler = StandardScaler()\n",
    "    scaled_data = scaler.fit_transform(df)\n",
    "\n",
    "    # Step 2: Perform PCA\n",
    "    pca = PCA(n_components=num_components)\n",
    "    pca_data = pca.fit_transform(scaled_data)\n",
    "\n",
    "    # Step 3: Visualize the results\n",
    "    pca_df = pd.DataFrame(data=pca_data, columns=[f'PC{i+1}' for i in range(num_components)])\n",
    "\n",
    "    plt.figure(figsize=(8, 6))\n",
    "    plt.scatter(pca_df['PC1'], pca_df['PC2'], alpha=0.5)\n",
    "    plt.title('Principal Component Analysis')\n",
    "    plt.xlabel('Principal Component 1')\n",
    "    plt.ylabel('Principal Component 2')\n",
    "    plt.grid(True)\n",
    "    plt.show()\n",
    "\n",
    "    # Step 4: Analyze the explained variance\n",
    "    explained_variance_ratio = pca.explained_variance_ratio_\n",
    "    print(\"Explained Variance Ratio:\")\n",
    "    for i, ratio in enumerate(explained_variance_ratio):\n",
    "        print(f\"PC{i + 1}: {ratio:.2f}\")\n",
    "\n",
    "    # Optionally, you can also access the principal components themselves\n",
    "    principal_components = pca.components_\n",
    "    \n",
    "    # Get the loadings of each principal component\n",
    "    loadings = pca.components_\n",
    "\n",
    "    # Create a DataFrame to hold the loadings\n",
    "    loadings_df = pd.DataFrame(loadings, columns=df.columns)  # Assuming df is your DataFrame\n",
    "\n",
    "    # Print the top n indicators with the highest loadings for each principal component\n",
    "    num_top_indicators = num_components  \n",
    "    for i in range(num_components):\n",
    "        print(f\"Principal Component {i + 1}:\")\n",
    "        top_indicators = loadings_df.iloc[i].nlargest(num_top_indicators)\n",
    "        print(top_indicators)\n",
    "\n",
    "    # Compute cumulative explained variance ratio\n",
    "    cumulative_variance_ratio = np.cumsum(pca.explained_variance_ratio_)\n",
    "\n",
    "    # Plot explained variance ratio vs. number of components\n",
    "    plt.plot(range(1, len(cumulative_variance_ratio) + 1), cumulative_variance_ratio, marker='o', linestyle='-')\n",
    "    plt.xlabel('Number of Components')\n",
    "    plt.ylabel('Cumulative Explained Variance Ratio')\n",
    "    plt.title('PCA: Explained Variance Ratio vs. Number of Components')\n",
    "    plt.grid(True)\n",
    "    plt.show()\n",
    "    return pca_df, explained_variance_ratio, principal_components\n"
   ]
  },
  {
   "cell_type": "code",
   "execution_count": 75,
   "metadata": {},
   "outputs": [],
   "source": [
    "def perform_pls(df_X, y, num_components=13, n_top_indicators=3, min_c=1, max_c=13):\n",
    "    \"\"\"\n",
    "    Perform Partial Least Squares (PLS) regression on the given DataFrame.\n",
    "\n",
    "    Parameters:\n",
    "        df_X (DataFrame): DataFrame containing the features.\n",
    "        y (array-like): Array containing the target values.\n",
    "        num_components (int): Number of components for PLS regression (default is 2).\n",
    "\n",
    "    Returns:\n",
    "        X_pls (array): Lower-dimensional representation of the data obtained by PLS.\n",
    "    \"\"\"\n",
    "    # Initialize PLS regression with the desired number of components\n",
    "    pls = PLSRegression(n_components=num_components)\n",
    "\n",
    "    # Standardize the features by scaling them to have mean 0 and standard deviation 1\n",
    "    scaler = StandardScaler()\n",
    "    X_scaled = scaler.fit_transform(df_X)\n",
    "\n",
    "    # Fit PLS regression model to the scaled data\n",
    "    pls.fit(X_scaled, y)\n",
    "\n",
    "    # Transform the data to the lower-dimensional space\n",
    "    X_pls = pls.transform(X_scaled)\n",
    "\n",
    "    # Get the loadings of each component\n",
    "    loadings = pls.x_loadings_\n",
    "\n",
    "    # Create a DataFrame to hold the loadings\n",
    "    loadings_df = pd.DataFrame(loadings, columns=df_X.columns)\n",
    "\n",
    "    # Print the top n indicators with the highest loadings for each component\n",
    "    num_top_indicators = n_top_indicators  # Adjust this value based on how many top indicators you want to show\n",
    "    for i in range(num_components):\n",
    "        print(f\"Component {i + 1}:\")\n",
    "        top_indicators = loadings_df.iloc[:, i].nlargest(num_top_indicators)\n",
    "        print(top_indicators)\n",
    "\n",
    "    # Initialize PLS regression model with a range of possible numbers of components\n",
    "    min_components = min_c\n",
    "    max_components = max_c\n",
    "    components_range = range(min_components, max_components + 1)\n",
    "    pls_models = [PLSRegression(n_components=n) for n in components_range]\n",
    "\n",
    "    # Perform time series cross-validation for each number of components\n",
    "    tscv = TimeSeriesSplit(n_splits=255)  # Adjust the number of splits as needed\n",
    "    cv_scores = []\n",
    "    for model in pls_models:\n",
    "        scores = cross_val_score(model, df_X, y, cv=tscv, scoring='neg_mean_squared_error')  # Adjust scoring based on your task\n",
    "        cv_scores.append(-scores.mean())  # Convert to positive mean squared error\n",
    "\n",
    "    # Find the optimal number of components based on cross-validation scores\n",
    "    optimal_components = components_range[np.argmin(cv_scores)]\n",
    "    print(\"Optimal Number of Components:\", optimal_components)\n",
    "    return X_pls"
   ]
  },
  {
   "cell_type": "markdown",
   "metadata": {},
   "source": [
    "Models Evaluation"
   ]
  },
  {
   "cell_type": "code",
   "execution_count": 76,
   "metadata": {},
   "outputs": [],
   "source": [
    "def calculate_mape(actual, predicted):\n",
    "    \"\"\"\n",
    "    Calculate Mean Absolute Percentage Error (MAPE)\n",
    "    \n",
    "    Args:\n",
    "    actual: array-like, actual values\n",
    "    predicted: array-like, predicted values\n",
    "    \n",
    "    Returns:\n",
    "    mape: float, MAPE value\n",
    "    \"\"\"\n",
    "    # Ensure both actual and predicted arrays have the same length\n",
    "    if len(actual) != len(predicted):\n",
    "        raise ValueError(\"Length of actual and predicted arrays must be the same.\")\n",
    "    \n",
    "\n",
    "    # Calculate absolute percentage error for each observation\n",
    "    abs_percentage_error = np.abs((actual - predicted) / np.maximum(np.abs(actual), 1e-10))\n",
    "    \n",
    "    # Calculate mean of absolute percentage errors\n",
    "    mape = np.mean(abs_percentage_error) * 100\n",
    "    \n",
    "    return mape"
   ]
  },
  {
   "cell_type": "markdown",
   "metadata": {},
   "source": [
    "Data Processing - First Step"
   ]
  },
  {
   "cell_type": "code",
   "execution_count": 77,
   "metadata": {},
   "outputs": [],
   "source": [
    "#Copy Data & add Technical Indicators\n",
    "sp500 = sp500_data.copy()\n",
    "sp500 = technical_indicators(sp500)"
   ]
  },
  {
   "cell_type": "code",
   "execution_count": 78,
   "metadata": {},
   "outputs": [],
   "source": [
    "\n",
    "#lagging technical indicators to avoid look_ahead bias\n",
    "#sp500.iloc[:, 6:] = sp500.iloc[:, 6:].apply(lag_technical_indicators, axis=0)"
   ]
  },
  {
   "cell_type": "code",
   "execution_count": 79,
   "metadata": {},
   "outputs": [
    {
     "name": "stderr",
     "output_type": "stream",
     "text": [
      "C:\\Users\\Nagham\\AppData\\Local\\Temp\\ipykernel_12776\\3326783675.py:2: FutureWarning: Setting an item of incompatible dtype is deprecated and will raise in a future error of pandas. Value 'Date\n",
      "2002-01-02   -0.934138\n",
      "2002-01-03   -0.932189\n",
      "2002-01-04   -0.930082\n",
      "2002-01-07   -0.931904\n",
      "2002-01-08   -0.933658\n",
      "                ...   \n",
      "2023-12-22    0.859675\n",
      "2023-12-26    0.863177\n",
      "2023-12-27    0.867006\n",
      "2023-12-28    0.870766\n",
      "2023-12-29    0.866411\n",
      "Name: OBV, Length: 5537, dtype: float64' has dtype incompatible with int64, please explicitly cast to a compatible dtype first.\n",
      "  sp500.iloc[:, 6:] = sp500.iloc[:, 6:].apply(feature_transform, axis=0)\n"
     ]
    }
   ],
   "source": [
    "#transform features\n",
    "sp500.iloc[:, 6:] = sp500.iloc[:, 6:].apply(feature_transform, axis=0)"
   ]
  },
  {
   "cell_type": "code",
   "execution_count": 80,
   "metadata": {},
   "outputs": [],
   "source": [
    "#Add the Returns:\n",
    "sp500 = calculate_log_return(sp500)\n",
    "sp500 = calculate_discrete_returns(sp500)\n",
    "sp500 = calculate_log_returns_per(sp500)"
   ]
  },
  {
   "cell_type": "markdown",
   "metadata": {},
   "source": [
    "Feature Importance Analysis"
   ]
  },
  {
   "cell_type": "code",
   "execution_count": null,
   "metadata": {},
   "outputs": [],
   "source": [
    "#look at the correlated data in order to select feature:\n",
    "\n",
    "#correlation before choosing features\n",
    "#correlation(sp500, 'log_return')\n",
    "#rolling_correlation(sp500, 'log_return')\n",
    "\n",
    "# Step 1: Take the most strongly correlated feature and add it to our list of selected features. \n",
    "# Step 2: Take the second correlated feature and check to see if it's closely correlated \n",
    "# (neighboring in the clustermap) to any features already chosen.\n",
    "# If no, add to the list. If yes, discard. \n",
    "# Step 3: Repeat this process until either (1) we've reached the target feature count, or (2) we've run out strongly correlated features."
   ]
  },
  {
   "cell_type": "markdown",
   "metadata": {},
   "source": [
    "Chosen Features:\n",
    "WMA_signal, macd_signal, RSI, %K_fast, %D_fast, %D_slow, Bollinger Diff, WPR, OBV, ROC, ATR, MFI,\n",
    "Chaikin_Oscillator'"
   ]
  },
  {
   "cell_type": "code",
   "execution_count": null,
   "metadata": {},
   "outputs": [],
   "source": [
    "outliers_counts = count_outliers_iqr_df(sp500)\n",
    "print(\"Number of outliers in each column:\")\n",
    "print(outliers_counts)"
   ]
  },
  {
   "cell_type": "code",
   "execution_count": null,
   "metadata": {},
   "outputs": [],
   "source": [
    "print(\"Is data normal?\", is_normal(sp500))"
   ]
  },
  {
   "cell_type": "markdown",
   "metadata": {
    "tags": [
     "parameters"
    ]
   },
   "source": [
    "Start here for each model"
   ]
  },
  {
   "cell_type": "code",
   "execution_count": null,
   "metadata": {},
   "outputs": [],
   "source": [
    "#clean the data from na values & pick the columns\n",
    "sp500_d = sp500.copy()\n",
    "sp500_d = drop_nan(sp500_d)\n",
    "sp500_d = sp500_d.loc[:, ['WMA_signal', 'macd_signal', 'RSI', '%K_fast', '%D_fast', '%D_slow', \n",
    "                          'Bollinger Diff', 'WPR', 'OBV', 'ROC', 'ATR', 'MFI', 'Chaikin_Oscillator',\n",
    "                         'log_return']]"
   ]
  },
  {
   "cell_type": "code",
   "execution_count": null,
   "metadata": {},
   "outputs": [],
   "source": [
    "#look at the correlated data after feature selection:\n",
    "#features_paiplot(sp500_d)\n",
    "#correlation(sp500_d, 'log_return')\n",
    "#rolling_correlation(sp500, 'log_return')\n"
   ]
  },
  {
   "cell_type": "code",
   "execution_count": null,
   "metadata": {},
   "outputs": [],
   "source": [
    "#perform_pca(sp500_d.iloc[:,:-1])\n",
    "#perform_pls(sp500_d.iloc[:,:-1], sp500_d.iloc[:,-1])\n",
    "#check_distribution(sp500_d, 'log_return')\n",
    "#check_distribution_type(sp500_d['log_return'])\n",
    "#K = check_distribution_k(sp500_d['log_return'])\n",
    "#print(K)"
   ]
  },
  {
   "cell_type": "markdown",
   "metadata": {},
   "source": [
    "In the context of regression tasks like this one (since SVR is a Support Vector Machine for regression),\n",
    "where the target variable is continuous (e.g., log returns), a model score less than 0 typically indicates \n",
    "that the model is performing poorly and making predictions that are worse than simply using the mean or another\n",
    "basic statistical measure as the prediction for all samples."
   ]
  },
  {
   "cell_type": "markdown",
   "metadata": {},
   "source": [
    "Arima Model"
   ]
  },
  {
   "cell_type": "code",
   "execution_count": null,
   "metadata": {},
   "outputs": [],
   "source": [
    "#Arima model\n",
    "# Fetch historical data for the S&P 500\n",
    "data = sp500.copy()\n",
    "data = drop_nan(data)\n",
    "data = data.loc[:, ['WMA_signal', 'macd_signal', 'RSI', '%K_fast', '%D_fast', '%D_slow', \n",
    "                          'Bollinger Diff', 'WPR', 'OBV', 'ROC', 'ATR', 'MFI', 'Chaikin_Oscillator',\n",
    "                         'log_return']]"
   ]
  },
  {
   "cell_type": "code",
   "execution_count": null,
   "metadata": {},
   "outputs": [],
   "source": [
    "# Auto ARIMA to select optimal ARIMA parameters\n",
    "model = auto_arima(data['log_return'], seasonal=False, trace=True)\n",
    "print(model.summary())"
   ]
  },
  {
   "cell_type": "markdown",
   "metadata": {},
   "source": [
    "The best Params for Arima (0,0,1)"
   ]
  },
  {
   "cell_type": "markdown",
   "metadata": {},
   "source": [
    "Apply Arima"
   ]
  },
  {
   "cell_type": "markdown",
   "metadata": {},
   "source": [
    "The data Splitted 80% - 20% - Walk Forward on test (the predictions added to the train)"
   ]
  },
  {
   "cell_type": "code",
   "execution_count": null,
   "metadata": {},
   "outputs": [],
   "source": [
    "dataset_ex_df = data['log_return'].dropna()\n",
    "# Define the ARIMA model\n",
    "def arima_forecast(history):\n",
    "    # Fit the model\n",
    "    model = ARIMA(history, order=(0,0,1))\n",
    "    model_fit = model.fit()\n",
    "    \n",
    "    # Make the prediction\n",
    "    output = model_fit.forecast()\n",
    "    yhat = output[0]\n",
    "    return yhat\n",
    "\n",
    "# Split data into train and test sets\n",
    "X = dataset_ex_df.values\n",
    "size = int(len(X) * 0.8)\n",
    "train, test = X[0:size], X[size:len(X)]\n",
    "\n",
    "# Walk-forward validation\n",
    "history = [x for x in train]\n",
    "predictions = list()\n",
    "for t in range(len(test)):\n",
    "    # Generate a prediction\n",
    "    yhat = arima_forecast(history)\n",
    "    predictions.append(yhat)\n",
    "    # Add the predicted value to the training set\n",
    "    obs = test[t]\n",
    "    history.append(obs)"
   ]
  },
  {
   "cell_type": "code",
   "execution_count": null,
   "metadata": {},
   "outputs": [],
   "source": [
    "#Evaluate\n",
    "mae = mean_absolute_error(test,predictions)\n",
    "mse = mean_squared_error(test,predictions)\n",
    "rmse = np.sqrt(mse)\n",
    "r2 = r2_score(test,predictions)\n",
    "mape = mean_absolute_percentage_error(test,predictions)\n",
    "# Visualize predictions vs. actual values\n",
    "plt.scatter(test,predictions)\n",
    "plt.xlabel(\"Actual Values\")\n",
    "plt.ylabel(\"Predicted Values\")\n",
    "plt.title(\"Actual vs. Predicted Values\")\n",
    "plt.show()\n",
    "\n",
    "print(f'Mean Absolute Error: {mae}\\nMean Squared Error: {mse}\\nRoot Mean Squared Error: {rmse}\\nR-squared: {r2}')\n",
    "print(\"Mean Absolute Percentage Error (MAPE):\", mape)"
   ]
  },
  {
   "cell_type": "code",
   "execution_count": null,
   "metadata": {},
   "outputs": [],
   "source": [
    "# Plotting\n",
    "# Create traces\n",
    "trace1 = go.Scatter(x=dataset_ex_df.iloc[size:].index, y=test, mode='lines', name='Adjusted Close')\n",
    "trace2 = go.Scatter(x=dataset_ex_df.iloc[size:].index, y=predictions, mode='lines', name='Predections')\n",
    "\n",
    "# Create figure\n",
    "fig = go.Figure()\n",
    "\n",
    "# Add traces to figure\n",
    "fig.add_trace(trace1)\n",
    "fig.add_trace(trace2)\n",
    "\n",
    "# Update layout\n",
    "fig.update_layout(title='Plot of Adjuste Close Vs. Cleaned trend Data over Time',\n",
    "                  xaxis_title='Time',\n",
    "                  yaxis_title='USD',\n",
    "                  hovermode='x unified')\n",
    "\n",
    "# Show plot\n",
    "fig.show()"
   ]
  },
  {
   "cell_type": "markdown",
   "metadata": {},
   "source": [
    "KNN Model"
   ]
  },
  {
   "cell_type": "code",
   "execution_count": 90,
   "metadata": {},
   "outputs": [],
   "source": [
    "#clean the data from na values & pick the columns\n",
    "sp500_d = sp500.copy()\n",
    "sp500_d = drop_nan(sp500_d)\n",
    "sp500_d = sp500_d.loc[:, ['WMA_signal', 'macd_signal', 'RSI', '%K_fast', '%D_fast', '%D_slow', \n",
    "                          'Bollinger Diff', 'WPR', 'OBV', 'ROC', 'ATR', 'MFI', 'Chaikin_Oscillator',\n",
    "                         'log_return']]"
   ]
  },
  {
   "cell_type": "code",
   "execution_count": 91,
   "metadata": {},
   "outputs": [],
   "source": [
    "#Split the data\n",
    "sp500_d = truncate_before_wf(sp500_d, 200, 20)\n",
    "splits = walk_forward_validation(sp500_d, 200, 20)"
   ]
  },
  {
   "cell_type": "code",
   "execution_count": 85,
   "metadata": {},
   "outputs": [],
   "source": [
    "\n",
    "class KNNRegressor:\n",
    "    def __init__(self, k=5):\n",
    "        self.k = k\n",
    "        self.oKNNreg = KNeighborsRegressor(n_neighbors=k)\n",
    "\n",
    "    def fit(self, dfX: pd.DataFrame, vY: pd.Series):\n",
    "        self.oKNNreg.fit(dfX, vY) \n",
    "\n",
    "    def predict(self, dfX: pd.DataFrame):\n",
    "        y_pred = self.oKNNreg.predict(dfX)\n",
    "        return y_pred\n",
    "\n",
    "    def score(self, dfX: pd.DataFrame, vY: pd.Series):\n",
    "        R2 = self.oKNNreg.score(dfX, vY)\n",
    "        return R2\n",
    "    \n",
    "    def train(self, splits, col_drop):\n",
    "        predictions = []\n",
    "        evaluations = []\n",
    "        for i, (in_sample, out_of_sample) in enumerate(splits):\n",
    "            X_train = in_sample.drop(columns=[col_drop])\n",
    "            y_train = in_sample[col_drop]\n",
    "            self.oKNNreg.fit(X_train, y_train)\n",
    "\n",
    "            X_test = out_of_sample.drop(columns=[col_drop])\n",
    "            y_test = out_of_sample[col_drop]\n",
    "            predection = self.oKNNreg.predict(X_test)\n",
    "            predictions.extend(predection)\n",
    "            evaluations.extend(self.evaluate(y_test, predection))  #Append evaluation results as a single list\n",
    "        return (predictions, evaluations)# Return both predictions and evaluations\n",
    "    \n",
    "    def evaluate(self, y_true, y_pred):\n",
    "        self.mae = mean_absolute_error(y_true, y_pred)\n",
    "        self.mse = mean_squared_error(y_true, y_pred)\n",
    "        self.rmse = np.sqrt(self.mse)\n",
    "        self.r2 = r2_score(y_true, y_pred)\n",
    "        self.mape = mean_absolute_percentage_error(y_true, y_pred)\n",
    "\n",
    "        return (self.mae, self.mse, self.rmse, self.r2, self.mape)\n"
   ]
  },
  {
   "cell_type": "code",
   "execution_count": 88,
   "metadata": {},
   "outputs": [
    {
     "name": "stdout",
     "output_type": "stream",
     "text": [
      "Mean Absolute Error:0.0060532043769167465\n",
      "Mean Squared Error:9.204228675330621e-05\n",
      "Root Mean Squared Error:0.00959386714277961\n",
      "R2:0.3615759347415327\n",
      "Mean Absolute Percentage Error:14915071063.474287\n"
     ]
    }
   ],
   "source": [
    "# Example usage:\n",
    "# Instantiate LinearSVRTrainer\n",
    "model = KNNRegressor()\n",
    "\n",
    "# Train the model\n",
    "predictions, eval = model.train(splits,'log_return')\n",
    "\n",
    "#rearrange the evaluations from each iteration\n",
    "eval = [eval[i:i+5] for i in range(0, len(eval), 5)]\n",
    "c_names = ['MAE', 'MSE', 'RMSE', 'R2', 'MAPE']\n",
    "eval = pd.DataFrame(eval, columns=c_names)\n",
    "\n",
    "# Initialize an empty list to store predictions & adjust the df index (should cut the first unpredected 200)\n",
    "index_dropped = len(sp500_d)-len(predictions)\n",
    "\n",
    "sp500_d_includes_results = sp500_d.copy()\n",
    "sp500_d_includes_results = sp500_d_includes_results.iloc[index_dropped:, :]\n",
    "sp500_d_includes_results['Predections_LinearSVM'] = predictions\n",
    "\n",
    "# Instantiate LinearSVREvaluator\n",
    "evaluation_results = model.evaluate(sp500_d_includes_results['log_return'], sp500_d_includes_results['Predections_LinearSVM'] )\n",
    "\n",
    "# Print evaluation results\n",
    "print(f\"Mean Absolute Error:{evaluation_results[0]}\")\n",
    "print(f\"Mean Squared Error:{evaluation_results[1]}\")\n",
    "print(f\"Root Mean Squared Error:{evaluation_results[2]}\")\n",
    "print(f\"R2:{evaluation_results[3]}\")\n",
    "print(f\"Mean Absolute Percentage Error:{evaluation_results[4]}\")"
   ]
  },
  {
   "cell_type": "code",
   "execution_count": 89,
   "metadata": {},
   "outputs": [
    {
     "data": {
      "image/png": "[encoded data removed]",
      "text/plain": [
       "<Figure size 640x480 with 1 Axes>"
      ]
     },
     "metadata": {},
     "output_type": "display_data"
    },
    {
     "data": {
      "image/png": "[encoded data removed]",
      "text/plain": [
       "<Figure size 640x480 with 1 Axes>"
      ]
     },
     "metadata": {},
     "output_type": "display_data"
    },
    {
     "data": {
      "image/png": "[encoded data removed]",
      "text/plain": [
       "<Figure size 640x480 with 1 Axes>"
      ]
     },
     "metadata": {},
     "output_type": "display_data"
    },
    {
     "data": {
      "image/png": "[encoded data removed]",
      "text/plain": [
       "<Figure size 640x480 with 1 Axes>"
      ]
     },
     "metadata": {},
     "output_type": "display_data"
    },
    {
     "data": {
      "image/png": "[encoded data removed]",
      "text/plain": [
       "<Figure size 640x480 with 1 Axes>"
      ]
     },
     "metadata": {},
     "output_type": "display_data"
    }
   ],
   "source": [
    "#Plot the evaluations for each iteration of the WF\n",
    "for column in eval.columns:\n",
    "    plt.figure()  # Create a new figure for each plot\n",
    "    plt.plot(eval.index, eval[column], label=column)  # Plot the column\n",
    "    plt.xlabel('Index of Rows')\n",
    "    plt.ylabel('Values')\n",
    "    plt.title(f'Plot of {column}')  # Add title with column name\n",
    "    plt.legend()  # Show legend\n",
    "    plt.show()  # Show the plot"
   ]
  },
  {
   "cell_type": "code",
   "execution_count": null,
   "metadata": {},
   "outputs": [],
   "source": [
    "# Visualize predictions vs. actual values\n",
    "plt.scatter(sp500_d_includes_results['log_return'], sp500_d_includes_results['Predections_LinearSVM'] )\n",
    "plt.xlabel(\"Actual Values\")\n",
    "plt.ylabel(\"Predicted Values\")\n",
    "plt.title(\"Actual vs. Predicted Values\")\n",
    "plt.show()"
   ]
  },
  {
   "cell_type": "code",
   "execution_count": null,
   "metadata": {},
   "outputs": [],
   "source": [
    "# Assuming df is your DataFrame containing the data\n",
    "# Replace 'feature1' and 'feature2' with the names of the features you want to plot\n",
    "feature1 = 'log_return'\n",
    "feature2 = 'Predections_LinearSVM'\n",
    "\n",
    "# Create line plot\n",
    "fig = go.Figure(data=go.Scatter(\n",
    "    x=sp500_d_includes_results.index,  # Assuming the index represents x-axis values\n",
    "    y=sp500_d_includes_results[feature1],\n",
    "    mode='lines',\n",
    "    name=feature1\n",
    "))\n",
    "\n",
    "# Add another line plot for the second feature\n",
    "fig.add_trace(go.Scatter(\n",
    "    x=sp500_d_includes_results.index,  # Assuming the index represents x-axis values\n",
    "    y=sp500_d_includes_results[feature2],\n",
    "    mode='lines',\n",
    "    name=feature2\n",
    "))\n",
    "\n",
    "# Customize layout\n",
    "fig.update_layout(\n",
    "    title='KNN K=5 - log_return Vs. Predictions on train dataset - WF 200,20',\n",
    "    xaxis=dict(title='X Axis'),  # Customize x-axis label\n",
    "    yaxis=dict(title='Y Axis'),  # Customize y-axis label\n",
    "    hovermode='closest'\n",
    ")\n",
    "\n",
    "# Show plot\n",
    "fig.show()\n"
   ]
  },
  {
   "cell_type": "markdown",
   "metadata": {},
   "source": [
    "## Class for all models"
   ]
  },
  {
   "cell_type": "code",
   "execution_count": null,
   "metadata": {},
   "outputs": [],
   "source": [
    "class TimeSeriesModels:\n",
    "    def __init__(self, k=5, svr_kernel='rbf', C=1.0, gamma=0.1, degree=3, rf_n_estimators=100, rf_max_features=4, \n",
    "                 rf_criterion = 'squared_error', gbm_n_estimators=100, gbm_criterion='squared_error',\n",
    "                 gbm_loss='squared_error', gbm_n_features='sqrt'):\n",
    "\n",
    "        self.k = k\n",
    "        self.svr_kernel = svr_kernel\n",
    "        self.gamma = gamma\n",
    "        self.degree = degree\n",
    "        self.C = C\n",
    "        self.rf_n_estimators = rf_n_estimators\n",
    "        self.rf_max_features = rf_max_features\n",
    "        self.rf_criterion = rf_criterion\n",
    "        self.gbm_n_estimators = gbm_n_estimators\n",
    "        self.gbm_criterion = gbm_criterion\n",
    "        self.gbm_loss = gbm_loss\n",
    "        self.gbm_n_features = gbm_n_features\n",
    "\n",
    "        # Initialize models\n",
    "        self.knn_model = KNeighborsRegressor(n_neighbors=self.k)\n",
    "        self.svr_model = SVR(kernel=self.svr_kernel, gamma=self.gamma, degree=self.degree, C=self.C)\n",
    "        self.rf_model = RandomForestRegressor(n_estimators=self.rf_n_estimators,\n",
    "                         max_features=self.rf_max_features, criterion=self.rf_criterion, bootstrap=False, warm_start=True)\n",
    "        self.gbm_model = GradientBoostingRegressor(n_estimators=self.gbm_n_estimators, \n",
    "                                                   criterion=self.gbm_criterion, loss=self.gbm_loss\n",
    "                                                   ,max_features=self.gbm_n_features)\n",
    "        self.lr_model = LinearRegression()\n",
    "\n",
    "    def knn_fit(self, dfX, vY):\n",
    "        self.knn_model.fit(dfX, vY)\n",
    "\n",
    "    def svr_fit(self, dfX, vY):\n",
    "        self.svr_model.fit(dfX, vY)\n",
    "\n",
    "    def rf_fit(self, dfX, vY):\n",
    "        self.rf_model.fit(dfX, vY)\n",
    "\n",
    "    def gbm_fit(self, dfX, vY):\n",
    "        self.gbm_model.fit(dfX, vY)\n",
    "    \n",
    "    def lr_fit(self, dfX, vY):\n",
    "        self.lr_model.fit(dfX, vY)\n",
    "\n",
    "    def knn_predict(self, dfX):\n",
    "        return self.knn_model.predict(dfX)\n",
    "\n",
    "    def svr_predict(self, dfX):\n",
    "        return self.svr_model.predict(dfX)\n",
    "\n",
    "    def rf_predict(self, dfX):\n",
    "        return self.rf_model.predict(dfX)\n",
    "\n",
    "    def gbm_predict(self, dfX):\n",
    "        return self.gbm_model.predict(dfX)\n",
    "    \n",
    "    def lr_predict(self, dfX):\n",
    "        return self.lr_model.predict(dfX)\n",
    "\n",
    "    def knn_score(self, dfX, vY):\n",
    "        return self.knn_model.score(dfX, vY)\n",
    "\n",
    "    def svr_score(self, dfX, vY):\n",
    "        return self.svr_model.score(dfX, vY)\n",
    "\n",
    "    def rf_score(self, dfX, vY):\n",
    "        return self.rf_model.score(dfX, vY)\n",
    "\n",
    "    def gbm_score(self, dfX, vY):\n",
    "        return self.gbm_model.score(dfX, vY)\n",
    "    \n",
    "    def lr_score(self, dfX, vY):\n",
    "        return self.lr_model.score(dfX, vY)\n",
    "\n",
    "    def knn_train(self, splits, col_drop):\n",
    "        predictions = []\n",
    "        \n",
    "        for i, (in_sample, out_of_sample) in enumerate(splits):\n",
    "            X_train = in_sample.drop(columns=[col_drop])\n",
    "            y_train = in_sample[col_drop]\n",
    "            self.knn_model.fit(X_train, y_train)\n",
    "\n",
    "            X_test = out_of_sample.drop(columns=[col_drop])\n",
    "            prediction = self.knn_model.predict(X_test)\n",
    "            predictions.extend(prediction)\n",
    "        return (predictions)# Return both predictions and evaluations\n",
    "    \n",
    "    def svr_train(self, splits, col_drop):\n",
    "        predictions = []\n",
    "        for i, (in_sample, out_of_sample) in enumerate(splits):\n",
    "            X_train = in_sample.drop(columns=[col_drop])\n",
    "            y_train = in_sample[col_drop]\n",
    "            self.svr_model.fit(X_train, y_train)\n",
    "\n",
    "            X_test = out_of_sample.drop(columns=[col_drop])\n",
    "            prediction = self.svr_model.predict(X_test)\n",
    "            predictions.extend(prediction)\n",
    "        return (predictions)# Return both predictions and evaluations\n",
    "    \n",
    "    def rf_train(self, splits, col_drop):\n",
    "        predictions = []\n",
    "        for i, (in_sample, out_of_sample) in enumerate(splits):\n",
    "            X_train = in_sample.drop(columns=[col_drop])\n",
    "            y_train = in_sample[col_drop]\n",
    "            self.rf_model.fit(X_train, y_train)\n",
    "\n",
    "            X_test = out_of_sample.drop(columns=[col_drop])\n",
    "            prediction = self.rf_model.predict(X_test)\n",
    "            predictions.extend(prediction)\n",
    "        return (predictions)# Return both predictions and evaluations\n",
    "\n",
    "    def gbm_train(self, splits, col_drop):\n",
    "        predictions = []\n",
    "        for i, (in_sample, out_of_sample) in enumerate(splits):\n",
    "            X_train = in_sample.drop(columns=[col_drop])\n",
    "            y_train = in_sample[col_drop]\n",
    "            self.gbm_model.fit(X_train, y_train)\n",
    "\n",
    "            X_test = out_of_sample.drop(columns=[col_drop])\n",
    "            prediction = self.gbm_model.predict(X_test)\n",
    "            predictions.extend(prediction)\n",
    "        return (predictions)# Return both predictions and evaluations\n",
    "    \n",
    "    def lr_train(self, splits, col_drop):\n",
    "        predictions = []\n",
    "        for i, (in_sample, out_of_sample) in enumerate(splits):\n",
    "            X_train = in_sample.drop(columns=[col_drop])\n",
    "            y_train = in_sample[col_drop]\n",
    "            self.lr_model.fit(X_train, y_train)\n",
    "\n",
    "            X_test = out_of_sample.drop(columns=[col_drop])\n",
    "            prediction = self.lr_model.predict(X_test)\n",
    "            predictions.extend(prediction)\n",
    "        return (predictions)# Return both predictions and evaluations\n",
    "    \n",
    "    def evaluate(self, y_true, y_pred):\n",
    "        self.mae = mean_absolute_error(y_true, y_pred)\n",
    "        self.mse = mean_squared_error(y_true, y_pred)\n",
    "        self.rmse = np.sqrt(self.mse)\n",
    "        self.r2 = r2_score(y_true, y_pred)\n",
    "        self.mape = mean_absolute_percentage_error(y_true, y_pred)\n",
    "\n",
    "        return (self.mae, self.mse, self.rmse, self.r2, self.mape)"
   ]
  },
  {
   "cell_type": "markdown",
   "metadata": {},
   "source": [
    "Data to perform Optimization"
   ]
  },
  {
   "cell_type": "code",
   "execution_count": null,
   "metadata": {},
   "outputs": [],
   "source": [
    "#clean the data from na values & pick the columns\n",
    "sp500_d = sp500.copy()\n",
    "sp500_d = drop_nan(sp500_d)\n",
    "sp500_d = sp500_d.loc[:, ['WMA_signal', 'macd_signal', 'RSI', '%K_fast', '%D_fast', '%D_slow', \n",
    "                          'Bollinger Diff', 'WPR', 'OBV', 'ROC', 'ATR', 'MFI', 'Chaikin_Oscillator',\n",
    "                         'log_return']]"
   ]
  },
  {
   "cell_type": "code",
   "execution_count": null,
   "metadata": {},
   "outputs": [],
   "source": [
    "#Split the data\n",
    "sp500_d = truncate_before_wf(sp500_d, 200, 20)\n",
    "splits = walk_forward_validation(sp500_d, 200, 20)"
   ]
  },
  {
   "cell_type": "markdown",
   "metadata": {},
   "source": [
    "Grid Search SVR Optimization"
   ]
  },
  {
   "cell_type": "code",
   "execution_count": null,
   "metadata": {},
   "outputs": [],
   "source": [
    "lC      = [1, 3, 5, 7, 10]\n",
    "lKernel = ['poly', 'rbf', 'linear']\n",
    "lgamma      = ['scale', 'auto', 0.1, 0.01, 0.001]\n",
    "ldegree = [3, 4, 5, 6, 7, 8, 9]"
   ]
  },
  {
   "cell_type": "code",
   "execution_count": null,
   "metadata": {},
   "outputs": [],
   "source": [
    "# Creating the Data Frame\n",
    "\n",
    "#===========================Fill This===========================#\n",
    "# 1. Calculate the number of combinations.\n",
    "# 2. Create a nested loop to create the combinations between the parameters.\n",
    "# 3. Store the combinations as the columns of a data frame.\n",
    "\n",
    "# For Advanced Python users: Use iteration tools for create the cartesian product\n",
    "numComb = len(lKernel) * len(lC) * len(lgamma) * len(ldegree)\n",
    "dData   = {'kernel': [], 'C': [], 'gamma':[], 'degree':[]}\n",
    "\n",
    "for ii, kernel in enumerate(lKernel):\n",
    "    for jj, paramC in enumerate(lC):\n",
    "        for kk, gamma in enumerate(lgamma):\n",
    "            for cc, degree in enumerate(ldegree):\n",
    "                dData['kernel'].append(kernel)\n",
    "                dData['C'].append(paramC)\n",
    "                dData['gamma'].append(gamma)\n",
    "                dData['degree'].append(degree)\n",
    "#===============================================================#\n",
    "\n",
    "dfModelScore = pd.DataFrame(data = dData)\n"
   ]
  },
  {
   "cell_type": "code",
   "execution_count": null,
   "metadata": {},
   "outputs": [],
   "source": [
    "Model = TimeSeriesModels(svr_kernel='rbf', C=1.0, gamma=0.1, degree=3)\n",
    "\n",
    "# Initialize an empty list to store predictions & adjust the df index (should cut the first unpredected 200)\n",
    "index_dropped = 200\n",
    "vY = sp500_d['log_return'].values\n",
    "vY = vY[index_dropped:]\n",
    "for ii in range(numComb):\n",
    "    kernel    = dfModelScore.loc[ii, 'kernel']\n",
    "    paramC          = dfModelScore.loc[ii, 'C']\n",
    "    gamma          = dfModelScore.loc[ii, 'gamma']\n",
    "    degree          = dfModelScore.loc[ii, 'degree']\n",
    "\n",
    "\n",
    "    print(f'Processing model {ii + 1:03d} out of {numComb}')\n",
    "\n",
    "    Model = TimeSeriesModels(svr_kernel=kernel, C=paramC, gamma=gamma, degree=degree)\n",
    "    predictions = Model.svr_train(splits, 'log_return')\n",
    "    \n",
    "    # Calculate evaluation metrics\n",
    "    mae, mse, rmse, r2, mape = Model.evaluate(vY, predictions)\n",
    "    \n",
    "    # Update the 'R2' column in dfModelScore with the calculated R2 score\n",
    "    dfModelScore.loc[ii, 'MAE'] = mae\n",
    "    dfModelScore.loc[ii, 'MSE'] = mse\n",
    "    dfModelScore.loc[ii, 'RMSE'] = rmse\n",
    "    dfModelScore.loc[ii, 'R2'] = r2\n",
    "    dfModelScore.loc[ii, 'MAPE'] = mape\n",
    "\n",
    "#===============================================================#"
   ]
  },
  {
   "cell_type": "markdown",
   "metadata": {},
   "source": [
    "Best Score - SVR Model"
   ]
  },
  {
   "cell_type": "code",
   "execution_count": null,
   "metadata": {},
   "outputs": [],
   "source": [
    "# Calculate the mean of MAE, MSE, RMSE, and MAPE for each model\n",
    "dfModelScore['MeanScore'] = dfModelScore[['MAE', 'MSE', 'RMSE', 'MAPE']].mean(axis=1)\n",
    "\n",
    "# Find the index of the model with the lowest mean score\n",
    "best_model_index = dfModelScore['RMSE'].idxmin()\n",
    "\n",
    "# Get the parameters of the best model\n",
    "best_model_params = dfModelScore.loc[best_model_index, ['kernel', 'C', 'gamma', 'degree']]\n",
    "\n",
    "# Print the parameters of the best model\n",
    "print(\"Best Model Parameters:\")\n",
    "print(best_model_params)"
   ]
  },
  {
   "cell_type": "markdown",
   "metadata": {},
   "source": [
    "Train The best Model of Kernel SVR"
   ]
  },
  {
   "cell_type": "code",
   "execution_count": null,
   "metadata": {},
   "outputs": [],
   "source": [
    "Model = TimeSeriesModels(svr_kernel='rbf', C=3.0, gamma=0.001, degree=3)\n",
    "\n",
    "# Initialize an empty list to store predictions & adjust the df index (should cut the first unpredected 200)\n",
    "index_dropped = 200\n",
    "predictions = Model.svr_train(splits, 'log_return')\n",
    "\n",
    "sp500_d_includes_results = sp500_d.copy()\n",
    "sp500_d_includes_results = sp500_d_includes_results.iloc[index_dropped:, :]\n",
    "sp500_d_includes_results['Predections'] = predictions\n"
   ]
  },
  {
   "cell_type": "markdown",
   "metadata": {},
   "source": [
    "KNN Optimization"
   ]
  },
  {
   "cell_type": "code",
   "execution_count": null,
   "metadata": {},
   "outputs": [],
   "source": [
    "dData   = {'K': []}\n",
    "\n",
    "#===============================================================#\n",
    "\n",
    "dfModelScore = pd.DataFrame(data = dData)"
   ]
  },
  {
   "cell_type": "code",
   "execution_count": null,
   "metadata": {},
   "outputs": [],
   "source": [
    "Model = TimeSeriesModels()\n",
    "\n",
    "# Initialize an empty list to store predictions & adjust the df index (should cut the first unpredected 200)\n",
    "index_dropped = 200\n",
    "vY = sp500_d['log_return'].values\n",
    "vY = vY[index_dropped:]\n",
    "for kk in range(10):\n",
    "    print(f'Processing model {kk + 1:03d} out of {10}')\n",
    "\n",
    "    Model = TimeSeriesModels(k=kk + 1)\n",
    "    predictions = Model.knn_train(splits, 'log_return')\n",
    "    \n",
    "    # Calculate evaluation metrics\n",
    "    mae, mse, rmse, r2, mape = Model.evaluate(vY, predictions)\n",
    "    \n",
    "    # Update the 'R2' column in dfModelScore with the calculated R2 score\n",
    "    dfModelScore.loc[kk, 'k'] = kk + 1\n",
    "    dfModelScore.loc[kk, 'MAE'] = mae\n",
    "    dfModelScore.loc[kk, 'MSE'] = mse\n",
    "    dfModelScore.loc[kk, 'RMSE'] = rmse\n",
    "    dfModelScore.loc[kk, 'R2'] = r2\n",
    "    dfModelScore.loc[kk, 'MAPE'] = mape\n",
    "\n",
    "#===============================================================#"
   ]
  },
  {
   "cell_type": "code",
   "execution_count": null,
   "metadata": {},
   "outputs": [],
   "source": [
    "# Calculate the mean of MAE, MSE, RMSE, and MAPE for each model\n",
    "dfModelScore['MeanScore'] = dfModelScore[['MAE', 'MSE', 'RMSE', 'MAPE']].mean(axis=1)\n",
    "\n",
    "# Find the index of the model with the lowest mean score\n",
    "best_model_index = dfModelScore['RMSE'].idxmin()\n",
    "\n",
    "# Get the parameters of the best model\n",
    "best_model_params = dfModelScore.loc[best_model_index, ['k']]\n",
    "\n",
    "# Print the parameters of the best model\n",
    "print(\"Best Model Parameters:\")\n",
    "print(best_model_params)"
   ]
  },
  {
   "cell_type": "markdown",
   "metadata": {},
   "source": [
    "Train the best KNN Model"
   ]
  },
  {
   "cell_type": "code",
   "execution_count": null,
   "metadata": {},
   "outputs": [],
   "source": [
    "Model = TimeSeriesModels(k=6)\n",
    "\n",
    "# Initialize an empty list to store predictions & adjust the df index (should cut the first unpredected 200)\n",
    "index_dropped = 200\n",
    "predictions = Model.knn_train(splits, 'log_return')\n",
    "\n",
    "sp500_d_includes_results = sp500_d.copy()\n",
    "sp500_d_includes_results = sp500_d_includes_results.iloc[index_dropped:, :]\n",
    "sp500_d_includes_results['Predections'] = predictions"
   ]
  },
  {
   "cell_type": "markdown",
   "metadata": {},
   "source": [
    "LinearRegressor - no hyperparameters"
   ]
  },
  {
   "cell_type": "code",
   "execution_count": null,
   "metadata": {},
   "outputs": [],
   "source": [
    "Model = TimeSeriesModels()\n",
    "sp500_d_includes_results = sp500_d.copy()\n",
    "sp500_d_includes_results = sp500_d_includes_results.iloc[index_dropped:, :]\n",
    "\n",
    "# Initialize an empty list to store predictions & adjust the df index (should cut the first unpredected 200)\n",
    "index_dropped = 200\n",
    "vY = sp500_d['log_return'].values\n",
    "vY = vY[index_dropped:]\n",
    "\n",
    "predictions = Model.lr_train(splits, 'log_return')\n",
    "sp500_d_includes_results['Predections'] = predictions\n",
    "\n",
    "# Calculate evaluation metrics\n",
    "mae, mse, rmse, r2, mape = Model.evaluate(vY, predictions)\n",
    "\n",
    "#===============================================================#"
   ]
  },
  {
   "cell_type": "markdown",
   "metadata": {},
   "source": [
    "Random Forest"
   ]
  },
  {
   "cell_type": "code",
   "execution_count": null,
   "metadata": {},
   "outputs": [],
   "source": [
    "m_features = ['sqrt', 'log2', 4, 5, 6, 7]\n",
    "#criterion = ['squared_error', 'MAE']\n",
    "criterion = ['squared_error']\n",
    "n_estimators = [10, 100, 150, 200] #number of threes in the forest (100 default)"
   ]
  },
  {
   "cell_type": "code",
   "execution_count": null,
   "metadata": {},
   "outputs": [],
   "source": [
    "# Creating the Data Frame\n",
    "\n",
    "#===========================Fill This===========================#\n",
    "# 1. Calculate the number of combinations.\n",
    "# 2. Create a nested loop to create the combinations between the parameters.\n",
    "# 3. Store the combinations as the columns of a data frame.\n",
    "\n",
    "# For Advanced Python users: Use iteration tools for create the cartesian product\n",
    "numComb = len(m_features) * len(criterion) * len(n_estimators)\n",
    "dData   = {'max_features': [], 'criterion': [], 'n_estimators':[]}\n",
    "\n",
    "for ii, feature in enumerate(m_features):\n",
    "    for jj, cri in enumerate(criterion):\n",
    "        for kk, est in enumerate(n_estimators):\n",
    "            dData['max_features'].append(feature)\n",
    "            dData['criterion'].append(cri)\n",
    "            dData['n_estimators'].append(est)\n",
    "#===============================================================#\n",
    "\n",
    "dfModelScore = pd.DataFrame(data = dData)"
   ]
  },
  {
   "cell_type": "code",
   "execution_count": null,
   "metadata": {},
   "outputs": [],
   "source": [
    "Model = TimeSeriesModels()\n",
    "\n",
    "# Initialize an empty list to store predictions & adjust the df index (should cut the first unpredected 200)\n",
    "index_dropped = 200\n",
    "vY = sp500_d['log_return'].values\n",
    "vY = vY[index_dropped:]\n",
    "for ii in range(numComb):\n",
    "    rf_n_feature = dfModelScore.loc[ii, 'max_features']\n",
    "    rf_criterion = dfModelScore.loc[ii, 'criterion']\n",
    "    rf_n_est = dfModelScore.loc[ii, 'n_estimators']\n",
    "\n",
    "    print(f'Processing model {ii + 1:03d} out of {numComb}')\n",
    "    Model = TimeSeriesModels(rf_n_estimators=rf_n_est, rf_max_features=rf_n_feature ,rf_criterion = rf_criterion)\n",
    "    predictions = Model.rf_train(splits, 'log_return')\n",
    "    \n",
    "    # Calculate evaluation metrics\n",
    "    mae, mse, rmse, r2, mape = Model.evaluate(vY, predictions)\n",
    "    \n",
    "    # Update the 'R2' column in dfModelScore with the calculated R2 score\n",
    "    dfModelScore.loc[ii, 'MAE'] = mae\n",
    "    dfModelScore.loc[ii, 'MSE'] = mse\n",
    "    dfModelScore.loc[ii, 'RMSE'] = rmse\n",
    "    dfModelScore.loc[ii, 'R2'] = r2\n",
    "    dfModelScore.loc[ii, 'MAPE'] = mape\n",
    "\n",
    "#===============================================================#"
   ]
  },
  {
   "cell_type": "code",
   "execution_count": null,
   "metadata": {},
   "outputs": [],
   "source": [
    "# Calculate the mean of MAE, MSE, RMSE, and MAPE for each model\n",
    "dfModelScore['MeanScore'] = dfModelScore[['MAE', 'MSE', 'RMSE', 'R2', 'MAPE']].mean(axis=1)\n",
    "\n",
    "# Find the index of the model with the lowest mean score\n",
    "best_model_index = dfModelScore['MeanScore'].idxmin()\n",
    "#best_model_index = dfModelScore['R2'].idxmax()\n",
    "\n",
    "# Get the parameters of the best model\n",
    "best_model_params = dfModelScore.loc[best_model_index, ['max_features', 'criterion', 'n_estimators']]\n",
    "\n",
    "# Print the parameters of the best model\n",
    "print(\"Best Model Parameters:\")\n",
    "print(best_model_params)"
   ]
  },
  {
   "cell_type": "markdown",
   "metadata": {},
   "source": [
    "Train the best Random Forest model"
   ]
  },
  {
   "cell_type": "code",
   "execution_count": null,
   "metadata": {},
   "outputs": [],
   "source": [
    "Model = TimeSeriesModels(rf_n_estimators=200, rf_max_features=5)\n",
    "\n",
    "# Initialize an empty list to store predictions & adjust the df index (should cut the first unpredected 200)\n",
    "index_dropped = 200\n",
    "predictions = Model.rf_train(splits, 'log_return')\n",
    "\n",
    "sp500_d_includes_results = sp500_d.copy()\n",
    "sp500_d_includes_results = sp500_d_includes_results.iloc[index_dropped:, :]\n",
    "sp500_d_includes_results['Predections'] = predictions"
   ]
  },
  {
   "cell_type": "markdown",
   "metadata": {},
   "source": [
    "GradientBoostingRegressor Optimization"
   ]
  },
  {
   "cell_type": "code",
   "execution_count": null,
   "metadata": {},
   "outputs": [],
   "source": [
    "L_loss = ['squared_error', 'absolute_error', 'huber']\n",
    "L_criterion = ['friedman_mse', 'squared_error']\n",
    "L_n_estimators = [100, 150, 200] #number of threes in the forest (100 default)\n",
    "L_m_features = ['sqrt', 'log2', 5, 7]"
   ]
  },
  {
   "cell_type": "code",
   "execution_count": null,
   "metadata": {},
   "outputs": [],
   "source": [
    "# Creating the Data Frame\n",
    "\n",
    "#===========================Fill This===========================#\n",
    "# 1. Calculate the number of combinations.\n",
    "# 2. Create a nested loop to create the combinations between the parameters.\n",
    "# 3. Store the combinations as the columns of a data frame.\n",
    "\n",
    "# For Advanced Python users: Use iteration tools for create the cartesian product\n",
    "numComb = len(L_loss) * len(L_criterion) * len(L_n_estimators) *len(L_m_features)\n",
    "dData   = {'loss': [], 'criterion': [], 'n_estimators':[], 'm_features':[]}\n",
    "\n",
    "for ii, lss in enumerate(L_loss):\n",
    "    for jj, cri in enumerate(L_criterion):\n",
    "        for kk, est in enumerate(L_n_estimators):\n",
    "            for kk, feature in enumerate(L_m_features):\n",
    "                dData['loss'].append(lss)\n",
    "                dData['criterion'].append(cri)\n",
    "                dData['n_estimators'].append(est)\n",
    "                dData['m_features'].append(feature)\n",
    "#===============================================================#\n",
    "\n",
    "dfModelScore = pd.DataFrame(data = dData)"
   ]
  },
  {
   "cell_type": "code",
   "execution_count": null,
   "metadata": {},
   "outputs": [],
   "source": [
    "Model = TimeSeriesModels()\n",
    "\n",
    "# Initialize an empty list to store predictions & adjust the df index (should cut the first unpredected 200)\n",
    "index_dropped = 200\n",
    "vY = sp500_d['log_return'].values\n",
    "vY = vY[index_dropped:]\n",
    "for ii in range(numComb):\n",
    "    gbm_lo = dfModelScore.loc[ii, 'loss']\n",
    "    gbm_cri = dfModelScore.loc[ii, 'criterion']\n",
    "    gbm_n_est = dfModelScore.loc[ii, 'n_estimators']\n",
    "    gbm_feat = dfModelScore.loc[ii, 'm_features']\n",
    "\n",
    "    print(f'Processing model {ii + 1:03d} out of {numComb}')\n",
    "    Model = TimeSeriesModels(gbm_n_estimators=gbm_n_est, gbm_criterion=gbm_cri, gbm_loss=gbm_lo\n",
    "                                                   ,gbm_n_features=gbm_feat)\n",
    "    predictions = Model.gbm_train(splits, 'log_return')\n",
    "\n",
    "    # Calculate evaluation metrics\n",
    "    mae, mse, rmse, r2, mape = Model.evaluate(vY, predictions)\n",
    "    \n",
    "    # Update the 'R2' column in dfModelScore with the calculated R2 score\n",
    "    dfModelScore.loc[ii, 'MAE'] = mae\n",
    "    dfModelScore.loc[ii, 'MSE'] = mse\n",
    "    dfModelScore.loc[ii, 'RMSE'] = rmse\n",
    "    dfModelScore.loc[ii, 'R2'] = r2\n",
    "    dfModelScore.loc[ii, 'MAPE'] = mape\n",
    "\n",
    "#===============================================================#"
   ]
  },
  {
   "cell_type": "code",
   "execution_count": null,
   "metadata": {},
   "outputs": [],
   "source": [
    "# Calculate the mean of MAE, MSE, RMSE, and MAPE for each model\n",
    "dfModelScore['MeanScore'] = dfModelScore[['MAE', 'MSE', 'RMSE', 'R2', 'MAPE']].mean(axis=1)\n",
    "\n",
    "# Find the index of the model with the lowest mean score\n",
    "#best_model_index = dfModelScore['MeanScore'].idxmin()\n",
    "best_model_index = dfModelScore['R2'].idxmax()\n",
    "\n",
    "# Get the parameters of the best model\n",
    "best_model_params = dfModelScore.loc[best_model_index, ['loss', 'criterion', 'n_estimators', 'm_features']]\n",
    "\n",
    "# Print the parameters of the best model\n",
    "print(\"Best Model Parameters:\")\n",
    "print(best_model_params)"
   ]
  },
  {
   "cell_type": "markdown",
   "metadata": {},
   "source": [
    "Train the best Gradient Boosting Model"
   ]
  },
  {
   "cell_type": "code",
   "execution_count": null,
   "metadata": {},
   "outputs": [],
   "source": [
    "Model = TimeSeriesModels(gbm_n_estimators=200, gbm_criterion='friedman_mse', gbm_loss='absolute_error'\n",
    "                                                   ,gbm_n_features=7)\n",
    "# Initialize an empty list to store predictions & adjust the df index (should cut the first unpredected 200)\n",
    "index_dropped = 200\n",
    "predictions = Model.gbm_train(splits, 'log_return')\n",
    "\n",
    "sp500_d_includes_results = sp500_d.copy()\n",
    "sp500_d_includes_results = sp500_d_includes_results.iloc[index_dropped:, :]\n",
    "sp500_d_includes_results['Predections'] = predictions\n"
   ]
  },
  {
   "cell_type": "markdown",
   "metadata": {},
   "source": [
    "Results Visualization"
   ]
  },
  {
   "cell_type": "code",
   "execution_count": null,
   "metadata": {},
   "outputs": [],
   "source": [
    "# Visualize predictions vs. actual values\n",
    "plt.scatter(sp500_d_includes_results['log_return'], sp500_d_includes_results['Predections'] )\n",
    "plt.xlabel(\"Actual Values\")\n",
    "plt.ylabel(\"Predicted Values\")\n",
    "plt.title(\"Actual vs. Predicted Values\")\n",
    "plt.show()\n",
    "\n",
    "mae = mean_absolute_error(sp500_d_includes_results['log_return'], sp500_d_includes_results['Predections'] )\n",
    "mse = mean_squared_error(sp500_d_includes_results['log_return'], sp500_d_includes_results['Predections'] )\n",
    "rmse = np.sqrt(mse)\n",
    "r2 = r2_score(sp500_d_includes_results['log_return'], sp500_d_includes_results['Predections'] )\n",
    "mape = mean_absolute_percentage_error(sp500_d_includes_results['log_return'], sp500_d_includes_results['Predections'] )\n",
    "\n",
    "print(\"Mean Absolute Error:\", mae)\n",
    "print(\"Mean Squared Error:\", mse)\n",
    "print(\"Root Mean Squared Error:\", rmse)\n",
    "print(\"R-squared:\", r2)\n",
    "print(\"Mean Absolute Percentage Error (MAPE):\", mape)\n",
    "\n",
    "#print(\"Mean Absolute Error:\", dfModelScore.loc[best_model_index, 'MAE'])\n",
    "#print(\"Mean Squared Error:\", dfModelScore.loc[best_model_index, 'MSE'])\n",
    "#print(\"Root Mean Squared Error:\", dfModelScore.loc[best_model_index, 'RMSE'])\n",
    "#print(\"R-squared:\", dfModelScore.loc[best_model_index, 'R2'])\n",
    "#print(\"Mean Absolute Percentage Error (MAPE):\", dfModelScore.loc[best_model_index, 'MAPE'])"
   ]
  },
  {
   "cell_type": "code",
   "execution_count": null,
   "metadata": {},
   "outputs": [],
   "source": [
    "# Assuming df is your DataFrame containing the data\n",
    "# Replace 'feature1' and 'feature2' with the names of the features you want to plot\n",
    "feature1 = 'log_return'\n",
    "feature2 = 'Predections'\n",
    "\n",
    "# Create line plot\n",
    "fig = go.Figure(data=go.Scatter(\n",
    "    x=sp500_d_includes_results.index,  # Assuming the index represents x-axis values\n",
    "    y=sp500_d_includes_results[feature1],\n",
    "    mode='lines',\n",
    "    name=feature1\n",
    "))\n",
    "\n",
    "# Add another line plot for the second feature\n",
    "fig.add_trace(go.Scatter(\n",
    "    x=sp500_d_includes_results.index,  # Assuming the index represents x-axis values\n",
    "    y=sp500_d_includes_results[feature2],\n",
    "    mode='lines',\n",
    "    name=feature2\n",
    "))\n",
    "\n",
    "# Customize layout\n",
    "fig.update_layout(\n",
    "    title='Model - log_return Vs. Predictions on train dataset - WF 200,20',\n",
    "    xaxis=dict(title='X Axis'),  # Customize x-axis label\n",
    "    yaxis=dict(title='Y Axis'),  # Customize y-axis label\n",
    "    hovermode='closest'\n",
    ")\n",
    "\n",
    "# Show plot\n",
    "fig.show()"
   ]
  }
 ],
 "metadata": {
  "kernelspec": {
   "display_name": "Python 3",
   "language": "python",
   "name": "python3"
  },
  "language_info": {
   "codemirror_mode": {
    "name": "ipython",
    "version": 3
   },
   "file_extension": ".py",
   "mimetype": "text/x-python",
   "name": "python",
   "nbconvert_exporter": "python",
   "pygments_lexer": "ipython3",
   "version": "3.11.8"
  }
 },
 "nbformat": 4,
 "nbformat_minor": 2
}
