{
 "cells": [
  {
   "cell_type": "code",
   "execution_count": null,
   "metadata": {
    "vscode": {
     "languageId": "plaintext"
    }
   },
   "outputs": [],
   "source": [
    "\n",
    "#rasha code\n",
    "#clean the data from na values & pick the columns\n",
    "scaled_df = sp500.copy()\n",
    "scaled_df = drop_nan(scaled_df)\n",
    "scaled_df = scaled_df.loc[:, ['WMA_signal', 'macd_signal', 'RSI', '%K_fast', '%D_fast', '%D_slow', 'Bollinger Diff', 'WPR', 'OBV', 'log_return']]"
   ]
  },
  {
   "cell_type": "code",
   "execution_count": null,
   "metadata": {
    "vscode": {
     "languageId": "plaintext"
    }
   },
   "outputs": [],
   "source": [
    "groups = 10\n",
    "train = np.array(scaled_df)\n",
    "X, y = train[:, :-1], train[:, -1]\n",
    "\n",
    "def build_rolling_calendar(start_date, end_date, out_of_sample_size, runs, n_gap):\n",
    "    days = (end_date - start_date).days\n",
    "\n",
    "    in_sample_size = (100 - out_of_sample_size) / 100\n",
    "    out_of_sample_size = out_of_sample_size / 100\n",
    "\n",
    "    total_days_per_run = round(days / (runs * out_of_sample_size + in_sample_size))\n",
    "    in_sample_days_per_run = round(total_days_per_run * in_sample_size)\n",
    "    out_of_sample_days_per_run = round(total_days_per_run * out_of_sample_size)\n",
    "\n",
    "    calendar = pd.DataFrame()\n",
    "\n",
    "    calendar['InSampleStarts'] = [start_date + timedelta(days=(out_of_sample_days_per_run * x))\n",
    "                                  for x in range(runs)]\n",
    "    calendar['InSampleEnds'] = [x + timedelta(days=in_sample_days_per_run)\n",
    "                                for x in calendar['InSampleStarts']]\n",
    "\n",
    "    calendar['OutSampleStarts'] = [start_date + timedelta(days=in_sample_days_per_run + n_gap) +\n",
    "                                   timedelta(days=(out_of_sample_days_per_run * x))\n",
    "                                   for x in range(runs)]\n",
    "    calendar['OutSampleEnds'] = [x + timedelta(days=out_of_sample_days_per_run)\n",
    "                                 for x in calendar['OutSampleStarts']]\n",
    "\n",
    "    return calendar\n",
    "\n",
    "\n",
    "calendar = build_rolling_calendar(start_date=scaled_df.index.min(), end_date=scaled_df.index.max(), out_of_sample_size=20, runs=10, n_gap=20)\n",
    "\n",
    "\n",
    "# Plotting\n",
    "fig, ax = plt.subplots(figsize=(10, 6))\n",
    "\n",
    "for i, row in calendar.iterrows():\n",
    "    ax.plot([row['InSampleStarts'].year, row['InSampleEnds'].year], [i, i], color='blue')\n",
    "    ax.plot([row['OutSampleStarts'].year, row['OutSampleEnds'].year], [i, i], color='red')\n",
    "\n",
    "# Customize plot\n",
    "ax.set_yticks(calendar.index.values[::-1])\n",
    "ax.set_yticklabels(calendar.index.values[::-1])\n",
    "ax.set_xlabel('Years')\n",
    "ax.set_ylabel('Index')\n",
    "ax.set_title('Sample Periods')\n",
    "ax.grid(True)\n",
    "\n",
    "plt.tight_layout()\n",
    "plt.show()"
   ]
  },
  {
   "cell_type": "code",
   "execution_count": null,
   "metadata": {
    "vscode": {
     "languageId": "plaintext"
    }
   },
   "outputs": [],
   "source": [
    "from itertools import chain\n",
    "\n",
    "X_train = []\n",
    "X_test = []\n",
    "y_train = []\n",
    "y_test = []\n",
    "for i, row in calendar.iterrows():\n",
    "    train = scaled_df.loc[row['InSampleStarts']: row['InSampleEnds']].to_numpy()\n",
    "    X_train.append(train[:, :-1])\n",
    "    y_train.append(train[:, -1])\n",
    "    test = scaled_df.loc[row['OutSampleStarts']: row['OutSampleEnds']].to_numpy()\n",
    "    X_test.append(test[:, :-1])\n",
    "    y_test.append(test[:,-1])\n",
    "    if i == 0: \n",
    "        X_train_signals = scaled_df.loc[row['OutSampleStarts']:].to_numpy()\n",
    "\n",
    "\n",
    "flattened_y_test = np.array(list(chain(*y_test)))"
   ]
  },
  {
   "cell_type": "code",
   "execution_count": null,
   "metadata": {
    "vscode": {
     "languageId": "plaintext"
    }
   },
   "outputs": [],
   "source": [
    "svr_y_pred = []\n",
    "svr = SVR(C=1, kernel='linear')\n",
    "for i in range(len(X_train)):\n",
    "    svr.fit(X_train[i], y_train[i])\n",
    "    y_pred = svr.predict(X_test[i])\n",
    "    svr_y_pred.extend(y_pred)\n",
    "    #score = svr.score(y_pred, y_test[i])\n",
    "    #print(f'batch {i} has a score of {score}')\n",
    "\n",
    "# Assign the list of predictions to the DataFrame column\n",
    "#sp500_d['Pred_log_return'].iloc[len((sp500_d)-200)] = np.concatenate(all_predictions)\n",
    "#svr_score = svr.score(svr_y_pred,flattened_y_test)\n",
    "#print(f'Accuracy of SVRegression is {svr_score}')\n"
   ]
  },
  {
   "cell_type": "code",
   "execution_count": null,
   "metadata": {
    "vscode": {
     "languageId": "plaintext"
    }
   },
   "outputs": [],
   "source": [
    "scaled_df['predictions'] = np.zeros(scaled_df.shape[0])\n",
    "\n",
    "# Determine the index range for appending predictions\n",
    "start_index = scaled_df.shape[0] - 3934\n",
    "end_index = scaled_df.shape[0]\n",
    "\n",
    "# Assign predictions to the last 3934 indices of the DataFrame column\n",
    "scaled_df['predictions'].iloc[start_index:end_index] = svr_y_pred\n",
    "\n",
    "#scaled_df['predictions'] = svr_y_pred"
   ]
  },
  {
   "cell_type": "code",
   "execution_count": null,
   "metadata": {
    "vscode": {
     "languageId": "plaintext"
    }
   },
   "outputs": [],
   "source": [
    "# Assuming df is your DataFrame containing the data\n",
    "# Replace 'feature1' and 'feature2' with the names of the features you want to plot\n",
    "feature1 = 'log_return'\n",
    "feature2 = 'predictions'\n",
    "\n",
    "# Create line plot\n",
    "fig = go.Figure(data=go.Scatter(\n",
    "    x=scaled_df.index,  # Assuming the index represents x-axis values\n",
    "    y=scaled_df[feature1],\n",
    "    mode='lines',\n",
    "    name=feature1\n",
    "))\n",
    "\n",
    "# Add another line plot for the second feature\n",
    "fig.add_trace(go.Scatter(\n",
    "    x=scaled_df.index,  # Assuming the index represents x-axis values\n",
    "    y=scaled_df[feature2],\n",
    "    mode='lines',\n",
    "    name=feature2\n",
    "))\n",
    "\n",
    "# Customize layout\n",
    "fig.update_layout(\n",
    "    title='Linear SVR - log_return Vs. Predictions on train dataset - WF 200,20',\n",
    "    xaxis=dict(title='X Axis'),  # Customize x-axis label\n",
    "    yaxis=dict(title='Y Axis'),  # Customize y-axis label\n",
    "    hovermode='closest'\n",
    ")\n",
    "\n",
    "# Show plot\n",
    "fig.show()\n"
   ]
  }
 ],
 "metadata": {
  "kernelspec": {
   "display_name": "Python 3",
   "language": "python",
   "name": "python3"
  },
  "language_info": {
   "codemirror_mode": {
    "name": "ipython",
    "version": 3
   },
   "file_extension": ".py",
   "mimetype": "text/x-python",
   "name": "python",
   "nbconvert_exporter": "python",
   "pygments_lexer": "ipython3",
   "version": "3.11.8"
  }
 },
 "nbformat": 4,
 "nbformat_minor": 2
}
